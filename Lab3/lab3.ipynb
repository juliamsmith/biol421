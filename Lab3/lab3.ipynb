{
 "cells": [
  {
   "cell_type": "markdown",
   "id": "specialized-remains",
   "metadata": {},
   "source": [
    "# Lab 3"
   ]
  },
  {
   "cell_type": "markdown",
   "id": "adequate-ceremony",
   "metadata": {},
   "source": [
    "What packages do we always want to load?"
   ]
  },
  {
   "cell_type": "code",
   "execution_count": 9,
   "id": "heated-supply",
   "metadata": {},
   "outputs": [],
   "source": [
    "library(tidyverse) #it's tidyverse!"
   ]
  },
  {
   "cell_type": "markdown",
   "id": "romantic-rental",
   "metadata": {},
   "source": [
    "## Chill Coma Recovery Time (CCRT)\n",
    "### Analysis\n",
    "Here's what you're asked to do: For all data from the class, construct a plot showing how the CCRT varies among species and with the duration of cold exposure (5 minutes - 1 hour)."
   ]
  },
  {
   "cell_type": "markdown",
   "id": "internal-mainland",
   "metadata": {},
   "source": [
    "Read in the CCRT data (Biol421Lab3_ccrt_2021.csv) and look at it"
   ]
  },
  {
   "cell_type": "code",
   "execution_count": 2,
   "id": "cardiac-conservation",
   "metadata": {},
   "outputs": [],
   "source": [
    "#YOUR CODE HERE\n"
   ]
  },
  {
   "cell_type": "markdown",
   "id": "alpine-anime",
   "metadata": {},
   "source": [
    "Construct a plot showing how the CCRT varies among species (use different colors) and with the duration of cold exposure (5 minutes - 1 hour). \n",
    "\n",
    "NEW: In your plots from now on, make sure to label the x and y axes (with words rather than object names and including units). You can look to my tutorial answer key to do that."
   ]
  },
  {
   "cell_type": "code",
   "execution_count": 3,
   "id": "virtual-drain",
   "metadata": {},
   "outputs": [],
   "source": [
    "#YOUR CODE HERE\n"
   ]
  },
  {
   "cell_type": "markdown",
   "id": "aquatic-jersey",
   "metadata": {},
   "source": [
    "### Questions\n",
    "#### Q1. \n",
    "Do isopod species differ in their chill coma recovery time? Does the duration of cold exposure influence CCRT? Describe any differences."
   ]
  },
  {
   "cell_type": "markdown",
   "id": "peripheral-kingdom",
   "metadata": {},
   "source": [
    "YOUR ANSWER HERE"
   ]
  },
  {
   "cell_type": "markdown",
   "id": "sustainable-address",
   "metadata": {},
   "source": [
    "#### Q2. \n",
    "Why is it likely that chill coma recovery time would be a trait that natural selection acts upon? "
   ]
  },
  {
   "cell_type": "markdown",
   "id": "joint-runner",
   "metadata": {},
   "source": [
    "YOUR ANSWER HERE"
   ]
  },
  {
   "cell_type": "markdown",
   "id": "hybrid-stuart",
   "metadata": {},
   "source": [
    "#### Q3.\n",
    "Hypothesize two other organismal or environmental factors that might influence CCRT.\n"
   ]
  },
  {
   "cell_type": "markdown",
   "id": "compatible-housing",
   "metadata": {},
   "source": [
    "YOUR ANSWER HERE"
   ]
  },
  {
   "cell_type": "markdown",
   "id": "undefined-europe",
   "metadata": {},
   "source": [
    "## Knockdown Time\n",
    "### Analysis\n",
    "\n",
    "Here's what you're asked to do. I'll go through it below with more instructions.\n",
    "\n",
    "1. Analyze knockdown time by making a scatter plot of the knockdown time (y-axis) as a function of temperature (x-axis) for each species (using all data from the class). \n",
    "\n",
    "2. Fit a linear model relating knockdown time to temperature for each species. The x-intercept of this model will be used to predict the knockdown temperature (i.e., the temperature at which the knockdown time equaled zero). Overlay these lines of best fit over the scatterplot of your data that you made in the previous step.\n",
    "\n",
    "3. Solve for the x-intercepts of the linear models, which corresponds to the knockdown temperature.\n"
   ]
  },
  {
   "cell_type": "markdown",
   "id": "fatty-convenience",
   "metadata": {},
   "source": [
    "Read in the knockdown data (Biol421Lab3_knockdown_2021.csv) and look at it."
   ]
  },
  {
   "cell_type": "code",
   "execution_count": 4,
   "id": "exotic-dynamics",
   "metadata": {},
   "outputs": [],
   "source": [
    "#YOUR CODE HERE\n"
   ]
  },
  {
   "cell_type": "markdown",
   "id": "regulation-plymouth",
   "metadata": {},
   "source": [
    "#### Step 1\n",
    "Make a scatter plot of the knockdown time (y-axis) as a function of temperature (x-axis), using a different color for each species. (Label x and y axes)"
   ]
  },
  {
   "cell_type": "code",
   "execution_count": 5,
   "id": "basic-sound",
   "metadata": {},
   "outputs": [],
   "source": [
    "#YOUR CODE HERE\n"
   ]
  },
  {
   "cell_type": "markdown",
   "id": "thrown-frank",
   "metadata": {},
   "source": [
    "#### Step 2\n",
    "Now let's actually do the linear regression (for each species) for ourselves using the lm function. Type out the equation your code gives you for each line (make sure it's clear what the independent and dependent variables are). It will likely help to refer back to the tutorial. "
   ]
  },
  {
   "cell_type": "code",
   "execution_count": 6,
   "id": "wanted-insurance",
   "metadata": {},
   "outputs": [],
   "source": [
    "#YOUR CODE HERE\n"
   ]
  },
  {
   "cell_type": "markdown",
   "id": "central-archives",
   "metadata": {},
   "source": [
    "YOUR EQUATIONS HERE (one for each species)"
   ]
  },
  {
   "cell_type": "markdown",
   "id": "strong-coach",
   "metadata": {},
   "source": [
    "Now let's see these lines on our plot. Modify your plot from step 1 to include a linear fit. (Label x and y axes... what you had in step 1 should be fine)"
   ]
  },
  {
   "cell_type": "code",
   "execution_count": 7,
   "id": "miniature-allah",
   "metadata": {},
   "outputs": [],
   "source": [
    "#YOUR CODE HERE\n"
   ]
  },
  {
   "cell_type": "markdown",
   "id": "closing-agenda",
   "metadata": {},
   "source": [
    "#### Step 3\n",
    "Solve for the x-intercepts of the linear models, which corresponds to the knockdown temperature.\n",
    "\n",
    "You can do this using code or a calculator. I'll demonstrate in section how to get started doing it with code."
   ]
  },
  {
   "cell_type": "code",
   "execution_count": 8,
   "id": "outstanding-spelling",
   "metadata": {},
   "outputs": [],
   "source": [
    "# YOUR CODE HERE (optional -- you can do the calculations in whatever way you prefer)\n"
   ]
  },
  {
   "cell_type": "markdown",
   "id": "interracial-pepper",
   "metadata": {},
   "source": [
    "YOUR X-INTERCEPTS HERE (one for each species)"
   ]
  },
  {
   "cell_type": "markdown",
   "id": "southeast-litigation",
   "metadata": {},
   "source": [
    "### Questions\n",
    "\n",
    "#### Q4.\n",
    "Do isopod species differ in their knockdown temperatures? Describe any differences."
   ]
  },
  {
   "cell_type": "markdown",
   "id": "ranging-edward",
   "metadata": {},
   "source": [
    "YOUR ANSWER HERE"
   ]
  },
  {
   "cell_type": "markdown",
   "id": "desperate-heritage",
   "metadata": {},
   "source": [
    "#### Q5.\n",
    "Do your estimated knockdown temperatures seem to correspond to the upper tails of the thermal performance curves you estimated for locomotion and feeding (in previous labs)?"
   ]
  },
  {
   "cell_type": "markdown",
   "id": "velvet-sheet",
   "metadata": {},
   "source": [
    "YOUR ANSWER HERE"
   ]
  },
  {
   "cell_type": "markdown",
   "id": "wrapped-italian",
   "metadata": {},
   "source": [
    "#### Q6. \n",
    "How many degrees difference is there between the knockdown temperatures and preferred body temperature (lab 1) of each species? How does this difference likely correspond to the temperature fluctuations the isopods experience in nature?"
   ]
  },
  {
   "cell_type": "markdown",
   "id": "distinguished-therapy",
   "metadata": {},
   "source": [
    "YOUR ANSWER HERE"
   ]
  },
  {
   "cell_type": "markdown",
   "id": "suitable-symphony",
   "metadata": {},
   "source": [
    "#### Q7. \n",
    "Overall, do your characterizations of isopod thermal tolerance and sensitivity indicate differences among the species in thermal specialization (breadth of thermal tolerance and performance)? In thermal adaptation?\n"
   ]
  },
  {
   "cell_type": "markdown",
   "id": "unusual-scanner",
   "metadata": {},
   "source": [
    "YOUR ANSWER HERE"
   ]
  },
  {
   "cell_type": "markdown",
   "id": "headed-plenty",
   "metadata": {},
   "source": [
    "#### Q8. \n",
    "What environmental or behavioral differences or similarities might account for the differences or similarities among the species?"
   ]
  },
  {
   "cell_type": "markdown",
   "id": "clinical-split",
   "metadata": {},
   "source": [
    "YOUR ANSWER HERE"
   ]
  }
 ],
 "metadata": {
  "kernelspec": {
   "display_name": "R",
   "language": "R",
   "name": "ir"
  },
  "language_info": {
   "codemirror_mode": "r",
   "file_extension": ".r",
   "mimetype": "text/x-r-source",
   "name": "R",
   "pygments_lexer": "r",
   "version": "4.0.2"
  }
 },
 "nbformat": 4,
 "nbformat_minor": 5
}
