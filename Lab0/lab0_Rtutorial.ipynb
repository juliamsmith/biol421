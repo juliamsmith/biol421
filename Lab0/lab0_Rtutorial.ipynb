{
 "cells": [
  {
   "cell_type": "markdown",
   "id": "parallel-oregon",
   "metadata": {},
   "source": [
    "# Lab 0 Tutorial"
   ]
  },
  {
   "cell_type": "markdown",
   "id": "strategic-commons",
   "metadata": {},
   "source": [
    "## Prerequisite: load required packages"
   ]
  },
  {
   "cell_type": "code",
   "execution_count": 1,
   "id": "arabic-machinery",
   "metadata": {},
   "outputs": [
    {
     "name": "stderr",
     "output_type": "stream",
     "text": [
      "── \u001b[1mAttaching packages\u001b[22m ─────────────────────────────────────── tidyverse 1.3.0 ──\n",
      "\n",
      "\u001b[32m✔\u001b[39m \u001b[34mggplot2\u001b[39m 3.3.3     \u001b[32m✔\u001b[39m \u001b[34mpurrr  \u001b[39m 0.3.4\n",
      "\u001b[32m✔\u001b[39m \u001b[34mtibble \u001b[39m 3.1.0     \u001b[32m✔\u001b[39m \u001b[34mdplyr  \u001b[39m 1.0.4\n",
      "\u001b[32m✔\u001b[39m \u001b[34mtidyr  \u001b[39m 1.1.3     \u001b[32m✔\u001b[39m \u001b[34mstringr\u001b[39m 1.4.0\n",
      "\u001b[32m✔\u001b[39m \u001b[34mreadr  \u001b[39m 1.4.0     \u001b[32m✔\u001b[39m \u001b[34mforcats\u001b[39m 0.5.1\n",
      "\n",
      "Warning message:\n",
      "“package ‘ggplot2’ was built under R version 4.0.3”\n",
      "Warning message:\n",
      "“package ‘tibble’ was built under R version 4.0.3”\n",
      "Warning message:\n",
      "“package ‘tidyr’ was built under R version 4.0.3”\n",
      "Warning message:\n",
      "“package ‘readr’ was built under R version 4.0.3”\n",
      "Warning message:\n",
      "“package ‘dplyr’ was built under R version 4.0.3”\n",
      "Warning message:\n",
      "“package ‘forcats’ was built under R version 4.0.3”\n",
      "── \u001b[1mConflicts\u001b[22m ────────────────────────────────────────── tidyverse_conflicts() ──\n",
      "\u001b[31m✖\u001b[39m \u001b[34mdplyr\u001b[39m::\u001b[32mfilter()\u001b[39m masks \u001b[34mstats\u001b[39m::filter()\n",
      "\u001b[31m✖\u001b[39m \u001b[34mdplyr\u001b[39m::\u001b[32mlag()\u001b[39m    masks \u001b[34mstats\u001b[39m::lag()\n",
      "\n"
     ]
    }
   ],
   "source": [
    "library(tidyverse) #tidyverse is a collection of packages for working with data"
   ]
  },
  {
   "cell_type": "markdown",
   "id": "humanitarian-reporter",
   "metadata": {},
   "source": [
    "## Some R basics"
   ]
  },
  {
   "cell_type": "markdown",
   "id": "floating-protocol",
   "metadata": {},
   "source": [
    "### Objects\n",
    "You'll often want to store values as objects (with descriptive names) for later use. \n",
    "\n",
    "The syntax for this is:\n",
    "object_name <- object_value\n",
    "\n",
    "It's good practice to do this rather than \"hard-code\" in numbers and names all over your scripts. Hard-coding involves repeatedly using a value rather than assigning it to an object and using that object instead. This is hard to read because \"10\" means a less to a reader than \"sample_size.\" It's hard to modify because if you wanted to change the value from 10 to 15, you'd only have to modify one line of code (the line where you initialize the object AKA first assign it a value), whereas you'd have to go through and replace every 10 with a 15 (except in cases where you are using 10 for a different reason and not to refer to the sample size... again because raw values are harder to read and interpret than names) if you had hard-coded it."
   ]
  },
  {
   "cell_type": "markdown",
   "id": "plastic-essex",
   "metadata": {},
   "source": [
    "I'll discuss some basic classes of objects: numerical, character, and logical.\n",
    "Numeric refers to numbers.\n",
    "Character refers to text and the values go in quotes to differentiate it from object names.\n",
    "Logical is either TRUE or FALSE and will be useful for performing operations only in certain cases (it's the basis of subsetting datasets)"
   ]
  },
  {
   "cell_type": "code",
   "execution_count": 2,
   "id": "bibliographic-aquatic",
   "metadata": {},
   "outputs": [
    {
     "data": {
      "text/html": [
       "'numeric'"
      ],
      "text/latex": [
       "'numeric'"
      ],
      "text/markdown": [
       "'numeric'"
      ],
      "text/plain": [
       "[1] \"numeric\""
      ]
     },
     "metadata": {},
     "output_type": "display_data"
    },
    {
     "data": {
      "text/html": [
       "'character'"
      ],
      "text/latex": [
       "'character'"
      ],
      "text/markdown": [
       "'character'"
      ],
      "text/plain": [
       "[1] \"character\""
      ]
     },
     "metadata": {},
     "output_type": "display_data"
    },
    {
     "data": {
      "text/html": [
       "'logical'"
      ],
      "text/latex": [
       "'logical'"
      ],
      "text/markdown": [
       "'logical'"
      ],
      "text/plain": [
       "[1] \"logical\""
      ]
     },
     "metadata": {},
     "output_type": "display_data"
    }
   ],
   "source": [
    "#Examples of each of these three classes\n",
    "\n",
    "age <- 20 #age in days\n",
    "class(age)\n",
    "\n",
    "species <- \"Melanoplus boulderensis\" #species name (Genus species)\n",
    "class(species)\n",
    "\n",
    "is_ctrl <- FALSE #whether or not the individual was in the control treatment (this individual was in the test treatment)\n",
    "class(is_ctrl)"
   ]
  },
  {
   "cell_type": "markdown",
   "id": "heated-parameter",
   "metadata": {},
   "source": [
    "Imagine you have a data on pillbugs. You store your observed value for the mass of an individual pillbug in an object, and you pick a concise, descriptive name for this object. When you call this object, the value is displayed. The class of this object is 'numeric'."
   ]
  },
  {
   "cell_type": "code",
   "execution_count": 4,
   "id": "mighty-explanation",
   "metadata": {},
   "outputs": [
    {
     "data": {
      "text/html": [
       "107.2"
      ],
      "text/latex": [
       "107.2"
      ],
      "text/markdown": [
       "107.2"
      ],
      "text/plain": [
       "[1] 107.2"
      ]
     },
     "metadata": {},
     "output_type": "display_data"
    },
    {
     "data": {
      "text/html": [
       "'numeric'"
      ],
      "text/latex": [
       "'numeric'"
      ],
      "text/markdown": [
       "'numeric'"
      ],
      "text/plain": [
       "[1] \"numeric\""
      ]
     },
     "metadata": {},
     "output_type": "display_data"
    }
   ],
   "source": [
    "PB_mass <- 107.2 #the mass of an individual pillbug in mg\n",
    "PB_mass #print PB_mass\n",
    "class(PB_mass) #print class of PB_mass"
   ]
  },
  {
   "cell_type": "markdown",
   "id": "secondary-manhattan",
   "metadata": {},
   "source": [
    "You can also modify this object (or use it to create a new object if you want to preserve the original, as well). Let's say you now want to change the units of mass. "
   ]
  },
  {
   "cell_type": "code",
   "execution_count": 5,
   "id": "lucky-water",
   "metadata": {},
   "outputs": [
    {
     "data": {
      "text/html": [
       "0.1072"
      ],
      "text/latex": [
       "0.1072"
      ],
      "text/markdown": [
       "0.1072"
      ],
      "text/plain": [
       "[1] 0.1072"
      ]
     },
     "metadata": {},
     "output_type": "display_data"
    }
   ],
   "source": [
    "PB_mass <- PB_mass/1000 #the mass of an individual pillbug, now in g; overwrites the old value of PB_mass\n",
    "PB_mass #print the updated PB_mass\n",
    "\n",
    "#note: if you wanted separate objects for both units, you could have instead run: PB_mass_g <- PB_mass/1000"
   ]
  },
  {
   "cell_type": "markdown",
   "id": "ignored-sport",
   "metadata": {},
   "source": [
    "But rarely is one observation all you have. Let's say you're working with the masses of 10 pillbugs now. Instead of storing these masses in 10 objects, you can store them in a single object: a vector. A vector is a one-dimensional collection of values all of the same class (in this case, numeric)."
   ]
  },
  {
   "cell_type": "code",
   "execution_count": 5,
   "id": "stupid-tenant",
   "metadata": {},
   "outputs": [
    {
     "data": {
      "text/html": [
       "<style>\n",
       ".list-inline {list-style: none; margin:0; padding: 0}\n",
       ".list-inline>li {display: inline-block}\n",
       ".list-inline>li:not(:last-child)::after {content: \"\\00b7\"; padding: 0 .5ex}\n",
       "</style>\n",
       "<ol class=list-inline><li>107.2</li><li>101</li><li>89.4</li><li>96.8</li><li>104.3</li><li>102.8</li><li>112.5</li><li>108.1</li><li>101.6</li><li>105.9</li></ol>\n"
      ],
      "text/latex": [
       "\\begin{enumerate*}\n",
       "\\item 107.2\n",
       "\\item 101\n",
       "\\item 89.4\n",
       "\\item 96.8\n",
       "\\item 104.3\n",
       "\\item 102.8\n",
       "\\item 112.5\n",
       "\\item 108.1\n",
       "\\item 101.6\n",
       "\\item 105.9\n",
       "\\end{enumerate*}\n"
      ],
      "text/markdown": [
       "1. 107.2\n",
       "2. 101\n",
       "3. 89.4\n",
       "4. 96.8\n",
       "5. 104.3\n",
       "6. 102.8\n",
       "7. 112.5\n",
       "8. 108.1\n",
       "9. 101.6\n",
       "10. 105.9\n",
       "\n",
       "\n"
      ],
      "text/plain": [
       " [1] 107.2 101.0  89.4  96.8 104.3 102.8 112.5 108.1 101.6 105.9"
      ]
     },
     "metadata": {},
     "output_type": "display_data"
    },
    {
     "data": {
      "text/html": [
       "'numeric'"
      ],
      "text/latex": [
       "'numeric'"
      ],
      "text/markdown": [
       "'numeric'"
      ],
      "text/plain": [
       "[1] \"numeric\""
      ]
     },
     "metadata": {},
     "output_type": "display_data"
    }
   ],
   "source": [
    "PB_mass_vec <- c(107.2, 101.0, 89.4, 96.8, 104.3, 102.8, 112.5, 108.1, 101.6, 105.9) #the mass of 10 pillbugs in mg\n",
    "PB_mass_vec #print PB_mass_vec\n",
    "class(PB_mass_vec) #print class of PB_mass_vec"
   ]
  },
  {
   "cell_type": "markdown",
   "id": "scheduled-camel",
   "metadata": {},
   "source": [
    "An array is similar to a vector, but it can be multidimensional (for a 2-dimensional array, called a matrix, imagine the mass of 10 pillbugs each measured over 15 days). A data frame is sort of like a matrix, but it is more useful for working with data. One big difference is that columns have names that they can be accessed by and different columns can contain different classes of data. You'll encounter one when we work with data later in this tutorial."
   ]
  },
  {
   "cell_type": "markdown",
   "id": "academic-diesel",
   "metadata": {},
   "source": [
    "### Functions"
   ]
  },
  {
   "cell_type": "markdown",
   "id": "southern-brook",
   "metadata": {},
   "source": [
    "A function typically takes in inputs (AKA arguments) and gives you an output.\n",
    "The syntax of calling a function is as follows (this function has two arguments but functions can have any number):\n",
    "\n",
    "func_name(arg1, arg2)\n",
    "\n",
    "If you want to store the output of the function as an object (you often do), you can:\n",
    "\n",
    "obj_name <- func_name(arg1, arg2)\n",
    "\n",
    "It is important to understand the functions you're using. What inputs does it want (a single numerical value? a vector with values of any class?)? Does it care about the order of those inputs? How example does it manipulate those inputs and what sort of output does it give? You can read documentation online (just google the function's name and R). Often at the end there will be examples of the function in action that may also help you understand. Writing your own simple examples is another great way to figure things out. \n",
    "\n",
    "At some point it is inevitable that you'll call a function and it won't run -- instead you'll get an error. The wording of the error may not make sense to you or be very helpful. If you copy and paste that wording into google, you'll find that someone has encountered this error before and asked about it on https://stackoverflow.com/. Definitely don't be afraid to google things! Becoming a skilled R programmer isn't so much not needing to google things anymore as it is being better at figuring out what to search and being better at interpreting the answers you find online."
   ]
  },
  {
   "cell_type": "markdown",
   "id": "offshore-shield",
   "metadata": {},
   "source": [
    "Here's an example with the function rep(), which makes a vector by repeating a single value. rep() takes in two values and the order of these values matters. The first is the value to be repeated and the second is the number of times to repeat it. \n",
    "Here's a link to the documentation: https://www.rdocumentation.org/packages/base/versions/3.6.2/topics/rep and you can also type ?rep into a code cell."
   ]
  },
  {
   "cell_type": "code",
   "execution_count": 12,
   "id": "diverse-swaziland",
   "metadata": {},
   "outputs": [
    {
     "data": {
      "text/html": [
       "<style>\n",
       ".list-inline {list-style: none; margin:0; padding: 0}\n",
       ".list-inline>li {display: inline-block}\n",
       ".list-inline>li:not(:last-child)::after {content: \"\\00b7\"; padding: 0 .5ex}\n",
       "</style>\n",
       "<ol class=list-inline><li>2</li><li>2</li><li>2</li><li>2</li><li>2</li></ol>\n"
      ],
      "text/latex": [
       "\\begin{enumerate*}\n",
       "\\item 2\n",
       "\\item 2\n",
       "\\item 2\n",
       "\\item 2\n",
       "\\item 2\n",
       "\\end{enumerate*}\n"
      ],
      "text/markdown": [
       "1. 2\n",
       "2. 2\n",
       "3. 2\n",
       "4. 2\n",
       "5. 2\n",
       "\n",
       "\n"
      ],
      "text/plain": [
       "[1] 2 2 2 2 2"
      ]
     },
     "metadata": {},
     "output_type": "display_data"
    },
    {
     "data": {
      "text/html": [
       "<style>\n",
       ".list-inline {list-style: none; margin:0; padding: 0}\n",
       ".list-inline>li {display: inline-block}\n",
       ".list-inline>li:not(:last-child)::after {content: \"\\00b7\"; padding: 0 .5ex}\n",
       "</style>\n",
       "<ol class=list-inline><li>5</li><li>5</li></ol>\n"
      ],
      "text/latex": [
       "\\begin{enumerate*}\n",
       "\\item 5\n",
       "\\item 5\n",
       "\\end{enumerate*}\n"
      ],
      "text/markdown": [
       "1. 5\n",
       "2. 5\n",
       "\n",
       "\n"
      ],
      "text/plain": [
       "[1] 5 5"
      ]
     },
     "metadata": {},
     "output_type": "display_data"
    }
   ],
   "source": [
    "rep(2,5) #make a vector by repeating 2 five times \n",
    "rep(5,2) #make a vector by repeating 5 two times"
   ]
  },
  {
   "cell_type": "markdown",
   "id": "joint-tattoo",
   "metadata": {},
   "source": [
    "### Operators\n",
    "\n",
    "These are like functions but have different syntax.\n",
    "\n",
    "-Arithmetic operators: +, -, *, /, ^\n",
    "\n",
    "-Relational operators: <, >, <=, >=, == (\"equals\"), != (\"does not equal\")\n",
    "\n",
    "-Logical operators: & (\"and\"), | (\"or\"), ! (\"not\")\n",
    "\n",
    "-Assignment operators: <-, = (for assigning arguments within a function)\n",
    "\n",
    "-The pipe operator: %>% (“and then”)"
   ]
  },
  {
   "cell_type": "markdown",
   "id": "chubby-sample",
   "metadata": {},
   "source": [
    "### Exercise 1\n",
    "\n",
    "-Initialize an object with a meaningful name (i.e. not num <- 20 but age <-20).\n",
    "\n",
    "-Use an operator on this object either to modify that object or to create a new object.\n",
    "\n",
    "-Remember to comment your code!\n"
   ]
  },
  {
   "cell_type": "code",
   "execution_count": 55,
   "id": "naked-champion",
   "metadata": {},
   "outputs": [
    {
     "data": {
      "text/html": [
       "5.5"
      ],
      "text/latex": [
       "5.5"
      ],
      "text/markdown": [
       "5.5"
      ],
      "text/plain": [
       "[1] 5.5"
      ]
     },
     "metadata": {},
     "output_type": "display_data"
    },
    {
     "data": {
      "text/html": [
       "66"
      ],
      "text/latex": [
       "66"
      ],
      "text/markdown": [
       "66"
      ],
      "text/plain": [
       "[1] 66"
      ]
     },
     "metadata": {},
     "output_type": "display_data"
    }
   ],
   "source": [
    "#height_ft <- 5.5 #human height; units feet\n",
    "#height_in <- height_ft * 12 \n",
    "\n",
    "#height_ft\n",
    "#height_in\n",
    "\n",
    "height <- 5.5 #ft \n",
    "height\n",
    "height <- height*12 #now in in\n",
    "height"
   ]
  },
  {
   "cell_type": "markdown",
   "id": "satellite-austria",
   "metadata": {},
   "source": [
    "### The pipe operator: %>%\n",
    "\n",
    "The pipe operator is part of tidyverse syntax and is quite useful for working with data frames (a class for datasets in R).\n",
    "It allows you to write code that is easier to read and modify by allowing you to nest functions without the clutter of nested parentheses.\n",
    "You always start with the object you're working on (usually a data frame, in this example a vector) and then apply functions to it. Read %>% as “and then”: reading top to bottom and left to right each step is an input to the next (it would go in the parentheses of the next function).\n",
    "\n",
    "One example of how it's easier to modify: if I decided I didn't actually want to use the exponent function, I could just comment out or deleter that line."
   ]
  },
  {
   "cell_type": "code",
   "execution_count": 8,
   "id": "psychological-violin",
   "metadata": {},
   "outputs": [
    {
     "data": {
      "text/html": [
       "<style>\n",
       ".list-inline {list-style: none; margin:0; padding: 0}\n",
       ".list-inline>li {display: inline-block}\n",
       ".list-inline>li:not(:last-child)::after {content: \"\\00b7\"; padding: 0 .5ex}\n",
       "</style>\n",
       "<ol class=list-inline><li>3.3</li><li>1.8</li><li>1.6</li><li>0.5</li><li>0.3</li><li>0.1</li><li>48.8</li><li>1.1</li></ol>\n"
      ],
      "text/latex": [
       "\\begin{enumerate*}\n",
       "\\item 3.3\n",
       "\\item 1.8\n",
       "\\item 1.6\n",
       "\\item 0.5\n",
       "\\item 0.3\n",
       "\\item 0.1\n",
       "\\item 48.8\n",
       "\\item 1.1\n",
       "\\end{enumerate*}\n"
      ],
      "text/markdown": [
       "1. 3.3\n",
       "2. 1.8\n",
       "3. 1.6\n",
       "4. 0.5\n",
       "5. 0.3\n",
       "6. 0.1\n",
       "7. 48.8\n",
       "8. 1.1\n",
       "\n",
       "\n"
      ],
      "text/plain": [
       "[1]  3.3  1.8  1.6  0.5  0.3  0.1 48.8  1.1"
      ]
     },
     "metadata": {},
     "output_type": "display_data"
    },
    {
     "data": {
      "text/html": [
       "<style>\n",
       ".list-inline {list-style: none; margin:0; padding: 0}\n",
       ".list-inline>li {display: inline-block}\n",
       ".list-inline>li:not(:last-child)::after {content: \"\\00b7\"; padding: 0 .5ex}\n",
       "</style>\n",
       "<ol class=list-inline><li>3.3</li><li>1.8</li><li>1.6</li><li>0.5</li><li>0.3</li><li>0.1</li><li>48.8</li><li>1.1</li></ol>\n"
      ],
      "text/latex": [
       "\\begin{enumerate*}\n",
       "\\item 3.3\n",
       "\\item 1.8\n",
       "\\item 1.6\n",
       "\\item 0.5\n",
       "\\item 0.3\n",
       "\\item 0.1\n",
       "\\item 48.8\n",
       "\\item 1.1\n",
       "\\end{enumerate*}\n"
      ],
      "text/markdown": [
       "1. 3.3\n",
       "2. 1.8\n",
       "3. 1.6\n",
       "4. 0.5\n",
       "5. 0.3\n",
       "6. 0.1\n",
       "7. 48.8\n",
       "8. 1.1\n",
       "\n",
       "\n"
      ],
      "text/plain": [
       "[1]  3.3  1.8  1.6  0.5  0.3  0.1 48.8  1.1"
      ]
     },
     "metadata": {},
     "output_type": "display_data"
    }
   ],
   "source": [
    "# Initialize x\n",
    "x <- c(0.109, 0.359, 0.63, 0.996, 0.515, 0.142, 0.017, 0.829, 0.907) #create arbitrary vector\n",
    "\n",
    "\n",
    "# Snippet 1\n",
    "round(exp(diff(log(x))), 1) #round the exponent of the lagged difference of the log of x to 1 decimal place\n",
    "\n",
    "#Snippet 2\n",
    "x %>% #ok so you're working with x and then\n",
    "  log() %>% #you take the log of it and then\n",
    "  diff() %>% #then you take the lagged difference of that and then\n",
    "  exp() %>% #you take the exponent of that\n",
    "  round(1) #you round to one decimal point\n",
    "\n"
   ]
  },
  {
   "cell_type": "markdown",
   "id": "completed-practice",
   "metadata": {},
   "source": [
    "### On packages\n",
    "Packages are groups of functions that do a specific task. If you need to do a specific type of analysis, somebody else might have done it already and created a lot of useful functions. It is worth looking for a relevant R package before writing a lot of new code yourself. Packages and the community of people (including many biologists) who make them are a great feature of R! \n",
    "\n",
    "The packages you need should already be installed on Jupyterhub, but you’ll need to load them into your Jupyter notebook. We did this with tidyverse at the beginning of this tutorial. The general form is: library(name_of_package)"
   ]
  },
  {
   "cell_type": "markdown",
   "id": "decent-passage",
   "metadata": {},
   "source": [
    "## Working with data"
   ]
  },
  {
   "cell_type": "markdown",
   "id": "protecting-conference",
   "metadata": {},
   "source": [
    "### Reading in the data"
   ]
  },
  {
   "cell_type": "markdown",
   "id": "virtual-poverty",
   "metadata": {},
   "source": [
    "You'll often deal with data in comma separated values (csv) files. Within the folder you have for a project (where your R scripts live), it's good practice to have a data folder where these csvs can go. Inside the read.csv function, you put the path from this jupyter notebook to the csv you want to access. In this case that is \"data/crabs.csv\" since we're in the lab0 folder and crabs.csv is just nested one folder deeper in data. This approach should work fine for you in this class, but sometime in the future you may encounter more complex file structures. For (totally optional) further reading on more complex paths, see this: https://ssc.wisc.edu/sscc/pubs/R_intro/book/1-10-paths-and-working-directories.html."
   ]
  },
  {
   "cell_type": "markdown",
   "id": "settled-river",
   "metadata": {},
   "source": [
    "Read in the data"
   ]
  },
  {
   "cell_type": "code",
   "execution_count": 50,
   "id": "accurate-poker",
   "metadata": {},
   "outputs": [
    {
     "data": {
      "text/html": [
       "<table class=\"dataframe\">\n",
       "<caption>A data.frame: 6 × 8</caption>\n",
       "<thead>\n",
       "\t<tr><th></th><th scope=col>species</th><th scope=col>sex</th><th scope=col>index</th><th scope=col>FL</th><th scope=col>RW</th><th scope=col>CL</th><th scope=col>CW</th><th scope=col>BD</th></tr>\n",
       "\t<tr><th></th><th scope=col>&lt;chr&gt;</th><th scope=col>&lt;chr&gt;</th><th scope=col>&lt;int&gt;</th><th scope=col>&lt;dbl&gt;</th><th scope=col>&lt;dbl&gt;</th><th scope=col>&lt;dbl&gt;</th><th scope=col>&lt;dbl&gt;</th><th scope=col>&lt;dbl&gt;</th></tr>\n",
       "</thead>\n",
       "<tbody>\n",
       "\t<tr><th scope=row>1</th><td>Blue</td><td>M</td><td>1</td><td> 8.1</td><td>6.7</td><td>16.1</td><td>19.0</td><td>7.0</td></tr>\n",
       "\t<tr><th scope=row>2</th><td>Blue</td><td>M</td><td>2</td><td> 8.8</td><td>7.7</td><td>18.1</td><td>20.8</td><td>7.4</td></tr>\n",
       "\t<tr><th scope=row>3</th><td>Blue</td><td>M</td><td>3</td><td> 9.2</td><td>7.8</td><td>19.0</td><td>22.4</td><td>7.7</td></tr>\n",
       "\t<tr><th scope=row>4</th><td>Blue</td><td>M</td><td>4</td><td> 9.6</td><td>7.9</td><td>20.1</td><td>23.1</td><td>8.2</td></tr>\n",
       "\t<tr><th scope=row>5</th><td>Blue</td><td>M</td><td>5</td><td> 9.8</td><td>8.0</td><td>20.3</td><td>23.0</td><td>8.2</td></tr>\n",
       "\t<tr><th scope=row>6</th><td>Blue</td><td>M</td><td>6</td><td>10.8</td><td>9.0</td><td>23.0</td><td>26.5</td><td>9.8</td></tr>\n",
       "</tbody>\n",
       "</table>\n"
      ],
      "text/latex": [
       "A data.frame: 6 × 8\n",
       "\\begin{tabular}{r|llllllll}\n",
       "  & species & sex & index & FL & RW & CL & CW & BD\\\\\n",
       "  & <chr> & <chr> & <int> & <dbl> & <dbl> & <dbl> & <dbl> & <dbl>\\\\\n",
       "\\hline\n",
       "\t1 & Blue & M & 1 &  8.1 & 6.7 & 16.1 & 19.0 & 7.0\\\\\n",
       "\t2 & Blue & M & 2 &  8.8 & 7.7 & 18.1 & 20.8 & 7.4\\\\\n",
       "\t3 & Blue & M & 3 &  9.2 & 7.8 & 19.0 & 22.4 & 7.7\\\\\n",
       "\t4 & Blue & M & 4 &  9.6 & 7.9 & 20.1 & 23.1 & 8.2\\\\\n",
       "\t5 & Blue & M & 5 &  9.8 & 8.0 & 20.3 & 23.0 & 8.2\\\\\n",
       "\t6 & Blue & M & 6 & 10.8 & 9.0 & 23.0 & 26.5 & 9.8\\\\\n",
       "\\end{tabular}\n"
      ],
      "text/markdown": [
       "\n",
       "A data.frame: 6 × 8\n",
       "\n",
       "| <!--/--> | species &lt;chr&gt; | sex &lt;chr&gt; | index &lt;int&gt; | FL &lt;dbl&gt; | RW &lt;dbl&gt; | CL &lt;dbl&gt; | CW &lt;dbl&gt; | BD &lt;dbl&gt; |\n",
       "|---|---|---|---|---|---|---|---|---|\n",
       "| 1 | Blue | M | 1 |  8.1 | 6.7 | 16.1 | 19.0 | 7.0 |\n",
       "| 2 | Blue | M | 2 |  8.8 | 7.7 | 18.1 | 20.8 | 7.4 |\n",
       "| 3 | Blue | M | 3 |  9.2 | 7.8 | 19.0 | 22.4 | 7.7 |\n",
       "| 4 | Blue | M | 4 |  9.6 | 7.9 | 20.1 | 23.1 | 8.2 |\n",
       "| 5 | Blue | M | 5 |  9.8 | 8.0 | 20.3 | 23.0 | 8.2 |\n",
       "| 6 | Blue | M | 6 | 10.8 | 9.0 | 23.0 | 26.5 | 9.8 |\n",
       "\n"
      ],
      "text/plain": [
       "  species sex index FL   RW  CL   CW   BD \n",
       "1 Blue    M   1      8.1 6.7 16.1 19.0 7.0\n",
       "2 Blue    M   2      8.8 7.7 18.1 20.8 7.4\n",
       "3 Blue    M   3      9.2 7.8 19.0 22.4 7.7\n",
       "4 Blue    M   4      9.6 7.9 20.1 23.1 8.2\n",
       "5 Blue    M   5      9.8 8.0 20.3 23.0 8.2\n",
       "6 Blue    M   6     10.8 9.0 23.0 26.5 9.8"
      ]
     },
     "metadata": {},
     "output_type": "display_data"
    }
   ],
   "source": [
    "#1)\n",
    "#YOUR CODE HERE\n",
    "crabs <- read.csv(\"data/crabs.csv\")\n",
    "crabs\n"
   ]
  },
  {
   "cell_type": "markdown",
   "id": "buried-trinidad",
   "metadata": {},
   "source": [
    "### Exploring the data frame\n",
    "How many rows and columns are there?"
   ]
  },
  {
   "cell_type": "code",
   "execution_count": 30,
   "id": "hollywood-piano",
   "metadata": {},
   "outputs": [
    {
     "data": {
      "text/html": [
       "200"
      ],
      "text/latex": [
       "200"
      ],
      "text/markdown": [
       "200"
      ],
      "text/plain": [
       "[1] 200"
      ]
     },
     "metadata": {},
     "output_type": "display_data"
    },
    {
     "data": {
      "text/html": [
       "8"
      ],
      "text/latex": [
       "8"
      ],
      "text/markdown": [
       "8"
      ],
      "text/plain": [
       "[1] 8"
      ]
     },
     "metadata": {},
     "output_type": "display_data"
    },
    {
     "data": {
      "text/html": [
       "<style>\n",
       ".list-inline {list-style: none; margin:0; padding: 0}\n",
       ".list-inline>li {display: inline-block}\n",
       ".list-inline>li:not(:last-child)::after {content: \"\\00b7\"; padding: 0 .5ex}\n",
       "</style>\n",
       "<ol class=list-inline><li>200</li><li>8</li></ol>\n"
      ],
      "text/latex": [
       "\\begin{enumerate*}\n",
       "\\item 200\n",
       "\\item 8\n",
       "\\end{enumerate*}\n"
      ],
      "text/markdown": [
       "1. 200\n",
       "2. 8\n",
       "\n",
       "\n"
      ],
      "text/plain": [
       "[1] 200   8"
      ]
     },
     "metadata": {},
     "output_type": "display_data"
    }
   ],
   "source": [
    "#2.1-2.3)\n",
    "#YOUR CODE HERE\n",
    "nrow(crabs)\n",
    "ncol(crabs)\n",
    "dim(crabs)"
   ]
  },
  {
   "cell_type": "markdown",
   "id": "detected-initial",
   "metadata": {},
   "source": [
    "What are the names of the columns (the variables)?"
   ]
  },
  {
   "cell_type": "code",
   "execution_count": 31,
   "id": "stylish-jason",
   "metadata": {},
   "outputs": [
    {
     "data": {
      "text/html": [
       "<style>\n",
       ".list-inline {list-style: none; margin:0; padding: 0}\n",
       ".list-inline>li {display: inline-block}\n",
       ".list-inline>li:not(:last-child)::after {content: \"\\00b7\"; padding: 0 .5ex}\n",
       "</style>\n",
       "<ol class=list-inline><li>'species'</li><li>'sex'</li><li>'index'</li><li>'FL'</li><li>'RW'</li><li>'CL'</li><li>'CW'</li><li>'BD'</li></ol>\n"
      ],
      "text/latex": [
       "\\begin{enumerate*}\n",
       "\\item 'species'\n",
       "\\item 'sex'\n",
       "\\item 'index'\n",
       "\\item 'FL'\n",
       "\\item 'RW'\n",
       "\\item 'CL'\n",
       "\\item 'CW'\n",
       "\\item 'BD'\n",
       "\\end{enumerate*}\n"
      ],
      "text/markdown": [
       "1. 'species'\n",
       "2. 'sex'\n",
       "3. 'index'\n",
       "4. 'FL'\n",
       "5. 'RW'\n",
       "6. 'CL'\n",
       "7. 'CW'\n",
       "8. 'BD'\n",
       "\n",
       "\n"
      ],
      "text/plain": [
       "[1] \"species\" \"sex\"     \"index\"   \"FL\"      \"RW\"      \"CL\"      \"CW\"     \n",
       "[8] \"BD\"     "
      ]
     },
     "metadata": {},
     "output_type": "display_data"
    }
   ],
   "source": [
    "#2.4)\n",
    "#YOUR CODE HERE\n",
    "names(crabs)\n"
   ]
  },
  {
   "cell_type": "markdown",
   "id": "bronze-smooth",
   "metadata": {},
   "source": [
    "Looking at the whole data frame can be a lot. Let's just look at the first few rows."
   ]
  },
  {
   "cell_type": "code",
   "execution_count": 34,
   "id": "stock-myrtle",
   "metadata": {},
   "outputs": [
    {
     "data": {
      "text/html": [
       "<table class=\"dataframe\">\n",
       "<caption>A data.frame: 6 × 8</caption>\n",
       "<thead>\n",
       "\t<tr><th></th><th scope=col>species</th><th scope=col>sex</th><th scope=col>index</th><th scope=col>FL</th><th scope=col>RW</th><th scope=col>CL</th><th scope=col>CW</th><th scope=col>BD</th></tr>\n",
       "\t<tr><th></th><th scope=col>&lt;chr&gt;</th><th scope=col>&lt;chr&gt;</th><th scope=col>&lt;int&gt;</th><th scope=col>&lt;dbl&gt;</th><th scope=col>&lt;dbl&gt;</th><th scope=col>&lt;dbl&gt;</th><th scope=col>&lt;dbl&gt;</th><th scope=col>&lt;dbl&gt;</th></tr>\n",
       "</thead>\n",
       "<tbody>\n",
       "\t<tr><th scope=row>1</th><td>Blue</td><td>M</td><td>1</td><td> 8.1</td><td>6.7</td><td>16.1</td><td>19.0</td><td>7.0</td></tr>\n",
       "\t<tr><th scope=row>2</th><td>Blue</td><td>M</td><td>2</td><td> 8.8</td><td>7.7</td><td>18.1</td><td>20.8</td><td>7.4</td></tr>\n",
       "\t<tr><th scope=row>3</th><td>Blue</td><td>M</td><td>3</td><td> 9.2</td><td>7.8</td><td>19.0</td><td>22.4</td><td>7.7</td></tr>\n",
       "\t<tr><th scope=row>4</th><td>Blue</td><td>M</td><td>4</td><td> 9.6</td><td>7.9</td><td>20.1</td><td>23.1</td><td>8.2</td></tr>\n",
       "\t<tr><th scope=row>5</th><td>Blue</td><td>M</td><td>5</td><td> 9.8</td><td>8.0</td><td>20.3</td><td>23.0</td><td>8.2</td></tr>\n",
       "\t<tr><th scope=row>6</th><td>Blue</td><td>M</td><td>6</td><td>10.8</td><td>9.0</td><td>23.0</td><td>26.5</td><td>9.8</td></tr>\n",
       "</tbody>\n",
       "</table>\n"
      ],
      "text/latex": [
       "A data.frame: 6 × 8\n",
       "\\begin{tabular}{r|llllllll}\n",
       "  & species & sex & index & FL & RW & CL & CW & BD\\\\\n",
       "  & <chr> & <chr> & <int> & <dbl> & <dbl> & <dbl> & <dbl> & <dbl>\\\\\n",
       "\\hline\n",
       "\t1 & Blue & M & 1 &  8.1 & 6.7 & 16.1 & 19.0 & 7.0\\\\\n",
       "\t2 & Blue & M & 2 &  8.8 & 7.7 & 18.1 & 20.8 & 7.4\\\\\n",
       "\t3 & Blue & M & 3 &  9.2 & 7.8 & 19.0 & 22.4 & 7.7\\\\\n",
       "\t4 & Blue & M & 4 &  9.6 & 7.9 & 20.1 & 23.1 & 8.2\\\\\n",
       "\t5 & Blue & M & 5 &  9.8 & 8.0 & 20.3 & 23.0 & 8.2\\\\\n",
       "\t6 & Blue & M & 6 & 10.8 & 9.0 & 23.0 & 26.5 & 9.8\\\\\n",
       "\\end{tabular}\n"
      ],
      "text/markdown": [
       "\n",
       "A data.frame: 6 × 8\n",
       "\n",
       "| <!--/--> | species &lt;chr&gt; | sex &lt;chr&gt; | index &lt;int&gt; | FL &lt;dbl&gt; | RW &lt;dbl&gt; | CL &lt;dbl&gt; | CW &lt;dbl&gt; | BD &lt;dbl&gt; |\n",
       "|---|---|---|---|---|---|---|---|---|\n",
       "| 1 | Blue | M | 1 |  8.1 | 6.7 | 16.1 | 19.0 | 7.0 |\n",
       "| 2 | Blue | M | 2 |  8.8 | 7.7 | 18.1 | 20.8 | 7.4 |\n",
       "| 3 | Blue | M | 3 |  9.2 | 7.8 | 19.0 | 22.4 | 7.7 |\n",
       "| 4 | Blue | M | 4 |  9.6 | 7.9 | 20.1 | 23.1 | 8.2 |\n",
       "| 5 | Blue | M | 5 |  9.8 | 8.0 | 20.3 | 23.0 | 8.2 |\n",
       "| 6 | Blue | M | 6 | 10.8 | 9.0 | 23.0 | 26.5 | 9.8 |\n",
       "\n"
      ],
      "text/plain": [
       "  species sex index FL   RW  CL   CW   BD \n",
       "1 Blue    M   1      8.1 6.7 16.1 19.0 7.0\n",
       "2 Blue    M   2      8.8 7.7 18.1 20.8 7.4\n",
       "3 Blue    M   3      9.2 7.8 19.0 22.4 7.7\n",
       "4 Blue    M   4      9.6 7.9 20.1 23.1 8.2\n",
       "5 Blue    M   5      9.8 8.0 20.3 23.0 8.2\n",
       "6 Blue    M   6     10.8 9.0 23.0 26.5 9.8"
      ]
     },
     "metadata": {},
     "output_type": "display_data"
    }
   ],
   "source": [
    "#2.5)\n",
    "head(crabs)\n"
   ]
  },
  {
   "cell_type": "markdown",
   "id": "hollywood-empty",
   "metadata": {},
   "source": [
    "### Accessing variables\n",
    "Use the dollar sign ($) to access the columns by name."
   ]
  },
  {
   "cell_type": "code",
   "execution_count": 53,
   "id": "charged-carroll",
   "metadata": {},
   "outputs": [
    {
     "data": {
      "text/html": [
       "15.583"
      ],
      "text/latex": [
       "15.583"
      ],
      "text/markdown": [
       "15.583"
      ],
      "text/plain": [
       "[1] 15.583"
      ]
     },
     "metadata": {},
     "output_type": "display_data"
    }
   ],
   "source": [
    "#3)\n",
    "#YOUR CODE HERE\n",
    "crabs$FL\n",
    "#mean(crabs$FL)\n"
   ]
  },
  {
   "cell_type": "markdown",
   "id": "labeled-trinity",
   "metadata": {},
   "source": [
    "### Summarizing data frames\n",
    "There are many useful functions for summarizing data. Summarize the frontal lobe size (FL) data by calculating the following statistics: mean, median, maximum, minimum, standard deviation"
   ]
  },
  {
   "cell_type": "code",
   "execution_count": 39,
   "id": "protected-manitoba",
   "metadata": {},
   "outputs": [
    {
     "data": {
      "text/html": [
       "15.583"
      ],
      "text/latex": [
       "15.583"
      ],
      "text/markdown": [
       "15.583"
      ],
      "text/plain": [
       "[1] 15.583"
      ]
     },
     "metadata": {},
     "output_type": "display_data"
    },
    {
     "data": {
      "text/html": [
       "15.55"
      ],
      "text/latex": [
       "15.55"
      ],
      "text/markdown": [
       "15.55"
      ],
      "text/plain": [
       "[1] 15.55"
      ]
     },
     "metadata": {},
     "output_type": "display_data"
    },
    {
     "data": {
      "text/html": [
       "23.1"
      ],
      "text/latex": [
       "23.1"
      ],
      "text/markdown": [
       "23.1"
      ],
      "text/plain": [
       "[1] 23.1"
      ]
     },
     "metadata": {},
     "output_type": "display_data"
    },
    {
     "data": {
      "text/html": [
       "7.2"
      ],
      "text/latex": [
       "7.2"
      ],
      "text/markdown": [
       "7.2"
      ],
      "text/plain": [
       "[1] 7.2"
      ]
     },
     "metadata": {},
     "output_type": "display_data"
    },
    {
     "data": {
      "text/html": [
       "3.4953250903796"
      ],
      "text/latex": [
       "3.4953250903796"
      ],
      "text/markdown": [
       "3.4953250903796"
      ],
      "text/plain": [
       "[1] 3.495325"
      ]
     },
     "metadata": {},
     "output_type": "display_data"
    }
   ],
   "source": [
    "#4)\n",
    "mean(crabs$FL)\n",
    "median(crabs$FL)\n",
    "max(crabs$FL)\n",
    "min(crabs$FL)\n",
    "sd(crabs$FL)"
   ]
  },
  {
   "cell_type": "markdown",
   "id": "shaped-ozone",
   "metadata": {},
   "source": [
    "We can also create a table summarizing, for example, the mean by sex. This uses the function summarize() and the function group_by(). Let's start with a very simple example to introduce you to summarize()."
   ]
  },
  {
   "cell_type": "code",
   "execution_count": 42,
   "id": "delayed-offering",
   "metadata": {},
   "outputs": [
    {
     "data": {
      "text/html": [
       "14.0305"
      ],
      "text/latex": [
       "14.0305"
      ],
      "text/markdown": [
       "14.0305"
      ],
      "text/plain": [
       "[1] 14.0305"
      ]
     },
     "metadata": {},
     "output_type": "display_data"
    },
    {
     "data": {
      "text/html": [
       "<table class=\"dataframe\">\n",
       "<caption>A data.frame: 1 × 1</caption>\n",
       "<thead>\n",
       "\t<tr><th scope=col>meanBD</th></tr>\n",
       "\t<tr><th scope=col>&lt;dbl&gt;</th></tr>\n",
       "</thead>\n",
       "<tbody>\n",
       "\t<tr><td>14.0305</td></tr>\n",
       "</tbody>\n",
       "</table>\n"
      ],
      "text/latex": [
       "A data.frame: 1 × 1\n",
       "\\begin{tabular}{l}\n",
       " meanBD\\\\\n",
       " <dbl>\\\\\n",
       "\\hline\n",
       "\t 14.0305\\\\\n",
       "\\end{tabular}\n"
      ],
      "text/markdown": [
       "\n",
       "A data.frame: 1 × 1\n",
       "\n",
       "| meanBD &lt;dbl&gt; |\n",
       "|---|\n",
       "| 14.0305 |\n",
       "\n"
      ],
      "text/plain": [
       "  meanBD \n",
       "1 14.0305"
      ]
     },
     "metadata": {},
     "output_type": "display_data"
    }
   ],
   "source": [
    "#what is the mean BD?\n",
    "\n",
    "#fairly equivalent\n",
    "\n",
    "mean(crabs$BD) #class: numeric\n",
    "#OR\n",
    "crabs %>% summarize(meanBD=mean(BD)) #class: data.frame"
   ]
  },
  {
   "cell_type": "markdown",
   "id": "mental-cowboy",
   "metadata": {},
   "source": [
    "Now we incorporate group_by in order to get the mean by sex."
   ]
  },
  {
   "cell_type": "code",
   "execution_count": 43,
   "id": "amended-grass",
   "metadata": {},
   "outputs": [
    {
     "data": {
      "text/html": [
       "<table class=\"dataframe\">\n",
       "<caption>A tibble: 2 × 2</caption>\n",
       "<thead>\n",
       "\t<tr><th></th><th scope=col>sex</th><th scope=col>meanBD</th></tr>\n",
       "\t<tr><th></th><th scope=col>&lt;chr&gt;</th><th scope=col>&lt;dbl&gt;</th></tr>\n",
       "</thead>\n",
       "<tbody>\n",
       "\t<tr><th scope=row>1</th><td>F</td><td>13.724</td></tr>\n",
       "\t<tr><th scope=row>2</th><td>M</td><td>14.337</td></tr>\n",
       "</tbody>\n",
       "</table>\n"
      ],
      "text/latex": [
       "A tibble: 2 × 2\n",
       "\\begin{tabular}{r|ll}\n",
       "  & sex & meanBD\\\\\n",
       "  & <chr> & <dbl>\\\\\n",
       "\\hline\n",
       "\t1 & F & 13.724\\\\\n",
       "\t2 & M & 14.337\\\\\n",
       "\\end{tabular}\n"
      ],
      "text/markdown": [
       "\n",
       "A tibble: 2 × 2\n",
       "\n",
       "| <!--/--> | sex &lt;chr&gt; | meanBD &lt;dbl&gt; |\n",
       "|---|---|---|\n",
       "| 1 | F | 13.724 |\n",
       "| 2 | M | 14.337 |\n",
       "\n"
      ],
      "text/plain": [
       "  sex meanBD\n",
       "1 F   13.724\n",
       "2 M   14.337"
      ]
     },
     "metadata": {},
     "output_type": "display_data"
    }
   ],
   "source": [
    "#5.1)\n",
    "#YOUR CODE HERE\n",
    "crabs %>% group_by(sex) %>% summarize(meanBD=mean(BD))"
   ]
  },
  {
   "cell_type": "markdown",
   "id": "based-savage",
   "metadata": {},
   "source": [
    "Now find the mean by species."
   ]
  },
  {
   "cell_type": "code",
   "execution_count": 44,
   "id": "fatty-humidity",
   "metadata": {},
   "outputs": [
    {
     "data": {
      "text/html": [
       "<table class=\"dataframe\">\n",
       "<caption>A tibble: 2 × 2</caption>\n",
       "<thead>\n",
       "\t<tr><th></th><th scope=col>species</th><th scope=col>meanBD</th></tr>\n",
       "\t<tr><th></th><th scope=col>&lt;chr&gt;</th><th scope=col>&lt;dbl&gt;</th></tr>\n",
       "</thead>\n",
       "<tbody>\n",
       "\t<tr><th scope=row>1</th><td>Blue  </td><td>12.583</td></tr>\n",
       "\t<tr><th scope=row>2</th><td>Orange</td><td>15.478</td></tr>\n",
       "</tbody>\n",
       "</table>\n"
      ],
      "text/latex": [
       "A tibble: 2 × 2\n",
       "\\begin{tabular}{r|ll}\n",
       "  & species & meanBD\\\\\n",
       "  & <chr> & <dbl>\\\\\n",
       "\\hline\n",
       "\t1 & Blue   & 12.583\\\\\n",
       "\t2 & Orange & 15.478\\\\\n",
       "\\end{tabular}\n"
      ],
      "text/markdown": [
       "\n",
       "A tibble: 2 × 2\n",
       "\n",
       "| <!--/--> | species &lt;chr&gt; | meanBD &lt;dbl&gt; |\n",
       "|---|---|---|\n",
       "| 1 | Blue   | 12.583 |\n",
       "| 2 | Orange | 15.478 |\n",
       "\n"
      ],
      "text/plain": [
       "  species meanBD\n",
       "1 Blue    12.583\n",
       "2 Orange  15.478"
      ]
     },
     "metadata": {},
     "output_type": "display_data"
    }
   ],
   "source": [
    "#5.2)\n",
    "#YOUR CODE HERE (BRAINSTORM)\n",
    "crabs %>% group_by(species) %>% summarize(meanBD=mean(BD))"
   ]
  },
  {
   "cell_type": "markdown",
   "id": "southern-howard",
   "metadata": {},
   "source": [
    "Now find the mean for each combination of species and sex."
   ]
  },
  {
   "cell_type": "code",
   "execution_count": 46,
   "id": "stuck-threat",
   "metadata": {},
   "outputs": [
    {
     "name": "stderr",
     "output_type": "stream",
     "text": [
      "`summarise()` has grouped output by 'species'. You can override using the `.groups` argument.\n",
      "\n"
     ]
    },
    {
     "data": {
      "text/html": [
       "<table class=\"dataframe\">\n",
       "<caption>A grouped_df: 4 × 3</caption>\n",
       "<thead>\n",
       "\t<tr><th scope=col>species</th><th scope=col>sex</th><th scope=col>meanBD</th></tr>\n",
       "\t<tr><th scope=col>&lt;chr&gt;</th><th scope=col>&lt;chr&gt;</th><th scope=col>&lt;dbl&gt;</th></tr>\n",
       "</thead>\n",
       "<tbody>\n",
       "\t<tr><td>Blue  </td><td>F</td><td>11.816</td></tr>\n",
       "\t<tr><td>Blue  </td><td>M</td><td>13.350</td></tr>\n",
       "\t<tr><td>Orange</td><td>F</td><td>15.632</td></tr>\n",
       "\t<tr><td>Orange</td><td>M</td><td>15.324</td></tr>\n",
       "</tbody>\n",
       "</table>\n"
      ],
      "text/latex": [
       "A grouped\\_df: 4 × 3\n",
       "\\begin{tabular}{lll}\n",
       " species & sex & meanBD\\\\\n",
       " <chr> & <chr> & <dbl>\\\\\n",
       "\\hline\n",
       "\t Blue   & F & 11.816\\\\\n",
       "\t Blue   & M & 13.350\\\\\n",
       "\t Orange & F & 15.632\\\\\n",
       "\t Orange & M & 15.324\\\\\n",
       "\\end{tabular}\n"
      ],
      "text/markdown": [
       "\n",
       "A grouped_df: 4 × 3\n",
       "\n",
       "| species &lt;chr&gt; | sex &lt;chr&gt; | meanBD &lt;dbl&gt; |\n",
       "|---|---|---|\n",
       "| Blue   | F | 11.816 |\n",
       "| Blue   | M | 13.350 |\n",
       "| Orange | F | 15.632 |\n",
       "| Orange | M | 15.324 |\n",
       "\n"
      ],
      "text/plain": [
       "  species sex meanBD\n",
       "1 Blue    F   11.816\n",
       "2 Blue    M   13.350\n",
       "3 Orange  F   15.632\n",
       "4 Orange  M   15.324"
      ]
     },
     "metadata": {},
     "output_type": "display_data"
    }
   ],
   "source": [
    "#5.3)\n",
    "#YOUR CODE HERE (BRAINSTORM)\n",
    "crabs %>% group_by(species, sex) %>% summarize(meanBD=mean(BD))"
   ]
  },
  {
   "cell_type": "markdown",
   "id": "indoor-chorus",
   "metadata": {},
   "source": [
    "What do you notice about the means? What hypotheses does this table generate that you could test statistically?"
   ]
  },
  {
   "cell_type": "markdown",
   "id": "entire-concert",
   "metadata": {},
   "source": [
    "5.4 \n",
    "\n",
    "YOUR THOUGHTS HERE (BRAINSTORM)\n"
   ]
  },
  {
   "cell_type": "markdown",
   "id": "separated-sequence",
   "metadata": {},
   "source": [
    "Note that you can have multiple statisitcs in one place, here I add standard deviation and, a sample size for each group."
   ]
  },
  {
   "cell_type": "code",
   "execution_count": 47,
   "id": "known-edition",
   "metadata": {},
   "outputs": [
    {
     "name": "stderr",
     "output_type": "stream",
     "text": [
      "`summarise()` has grouped output by 'species'. You can override using the `.groups` argument.\n",
      "\n"
     ]
    },
    {
     "data": {
      "text/html": [
       "<table class=\"dataframe\">\n",
       "<caption>A grouped_df: 4 × 5</caption>\n",
       "<thead>\n",
       "\t<tr><th scope=col>species</th><th scope=col>sex</th><th scope=col>meanBD</th><th scope=col>sdBD</th><th scope=col>n</th></tr>\n",
       "\t<tr><th scope=col>&lt;chr&gt;</th><th scope=col>&lt;chr&gt;</th><th scope=col>&lt;dbl&gt;</th><th scope=col>&lt;dbl&gt;</th><th scope=col>&lt;int&gt;</th></tr>\n",
       "</thead>\n",
       "<tbody>\n",
       "\t<tr><td>Blue  </td><td>F</td><td>11.816</td><td>2.752465</td><td>50</td></tr>\n",
       "\t<tr><td>Blue  </td><td>M</td><td>13.350</td><td>3.199888</td><td>50</td></tr>\n",
       "\t<tr><td>Orange</td><td>F</td><td>15.632</td><td>2.752620</td><td>50</td></tr>\n",
       "\t<tr><td>Orange</td><td>M</td><td>15.324</td><td>3.527187</td><td>50</td></tr>\n",
       "</tbody>\n",
       "</table>\n"
      ],
      "text/latex": [
       "A grouped\\_df: 4 × 5\n",
       "\\begin{tabular}{lllll}\n",
       " species & sex & meanBD & sdBD & n\\\\\n",
       " <chr> & <chr> & <dbl> & <dbl> & <int>\\\\\n",
       "\\hline\n",
       "\t Blue   & F & 11.816 & 2.752465 & 50\\\\\n",
       "\t Blue   & M & 13.350 & 3.199888 & 50\\\\\n",
       "\t Orange & F & 15.632 & 2.752620 & 50\\\\\n",
       "\t Orange & M & 15.324 & 3.527187 & 50\\\\\n",
       "\\end{tabular}\n"
      ],
      "text/markdown": [
       "\n",
       "A grouped_df: 4 × 5\n",
       "\n",
       "| species &lt;chr&gt; | sex &lt;chr&gt; | meanBD &lt;dbl&gt; | sdBD &lt;dbl&gt; | n &lt;int&gt; |\n",
       "|---|---|---|---|---|\n",
       "| Blue   | F | 11.816 | 2.752465 | 50 |\n",
       "| Blue   | M | 13.350 | 3.199888 | 50 |\n",
       "| Orange | F | 15.632 | 2.752620 | 50 |\n",
       "| Orange | M | 15.324 | 3.527187 | 50 |\n",
       "\n"
      ],
      "text/plain": [
       "  species sex meanBD sdBD     n \n",
       "1 Blue    F   11.816 2.752465 50\n",
       "2 Blue    M   13.350 3.199888 50\n",
       "3 Orange  F   15.632 2.752620 50\n",
       "4 Orange  M   15.324 3.527187 50"
      ]
     },
     "metadata": {},
     "output_type": "display_data"
    }
   ],
   "source": [
    "#5.5)\n",
    "#YOUR CODE HERE\n",
    "crabs %>% group_by(species, sex) %>% summarize(meanBD=mean(BD), sdBD=sd(BD), n=n())\n",
    "\n"
   ]
  },
  {
   "cell_type": "markdown",
   "id": "pressing-occasions",
   "metadata": {},
   "source": [
    "### Subsetting\n",
    "We use the filter function to extract a subset of all the observations (rows) that meet our criteria.\n",
    "Note the use of relative operators (and a logical operator in 6.3)."
   ]
  },
  {
   "cell_type": "markdown",
   "id": "metropolitan-advocacy",
   "metadata": {},
   "source": [
    "Retrieve data for males only"
   ]
  },
  {
   "cell_type": "code",
   "execution_count": null,
   "id": "intensive-suite",
   "metadata": {},
   "outputs": [],
   "source": [
    "#6.1)\n",
    "#YOUR CODE HERE\n",
    "#crabs$sex==\"M\"\n"
   ]
  },
  {
   "cell_type": "markdown",
   "id": "controlling-skiing",
   "metadata": {},
   "source": [
    "Retrieve data for individuals with an FL value of 20 or greater"
   ]
  },
  {
   "cell_type": "code",
   "execution_count": null,
   "id": "horizontal-element",
   "metadata": {},
   "outputs": [],
   "source": [
    "#6.2)\n",
    "#YOUR CODE HERE\n"
   ]
  },
  {
   "cell_type": "markdown",
   "id": "southwest-quarter",
   "metadata": {},
   "source": [
    "Retrieve data for males with an FL value of 20 or greater"
   ]
  },
  {
   "cell_type": "code",
   "execution_count": null,
   "id": "false-webcam",
   "metadata": {},
   "outputs": [],
   "source": [
    "#6.3)\n",
    "#YOUR CODE HERE\n",
    "\n"
   ]
  },
  {
   "cell_type": "markdown",
   "id": "atlantic-generation",
   "metadata": {},
   "source": [
    "### Creating new columns\n",
    "Use the function mutate() to create a new column from existing ones\n",
    "Add a new column that is sum of FL and RW."
   ]
  },
  {
   "cell_type": "code",
   "execution_count": null,
   "id": "balanced-juice",
   "metadata": {},
   "outputs": [],
   "source": [
    "#7)\n",
    "#YOUR CODE HERE\n"
   ]
  },
  {
   "cell_type": "markdown",
   "id": "dried-blade",
   "metadata": {},
   "source": [
    "### Dropping columns\n",
    "Sometimes you don't plan to use all the columns. You can use select() to drop some either by saying which you want to keep or which you want to omit."
   ]
  },
  {
   "cell_type": "code",
   "execution_count": null,
   "id": "pointed-order",
   "metadata": {},
   "outputs": [],
   "source": [
    "#8.1)\n",
    "#YOUR CODE HERE\n"
   ]
  },
  {
   "cell_type": "code",
   "execution_count": null,
   "id": "geological-magic",
   "metadata": {},
   "outputs": [],
   "source": [
    "#8.2)\n",
    "#YOUR CODE HERE\n"
   ]
  },
  {
   "cell_type": "markdown",
   "id": "saving-attempt",
   "metadata": {},
   "source": [
    "OK so we've gotten to the end of manipulating a single data frame. Here's a good moment to note that if you modify a data frame and don't assign it to an operator then the modification is lost after that line. Like if  I ran just crabs %>% select(-index) and then called crabs, crabs would be unchanged. If I want to use a data frame with without index in the future, I need to assign it either to crabs (modifying the original data frame directly) or to some other object name like crabs_new (leaving the crabs data frame unchanged).\n",
    "\n",
    "It's only out of convenience that I haven't assigned it to objects in the scenarios above. I wanted crabs to stay unmodified so I could go through different examples, and coming up with new object names for these modified data frames was unappealing (plus if you don't assign it, it displays automatically when you run the code). But you will typically be using assigning to objects!"
   ]
  },
  {
   "cell_type": "markdown",
   "id": "amber-tower",
   "metadata": {},
   "source": [
    "### Exercise 2\n",
    "-Read in the crabs data file and assign it the name “crabs_og”\n",
    "-Drop BD and name the new data frame “crabs_mod”\n",
    "-In crabs_mod, create a new column containing the product of CL and CW for each individual and call it “CLxCW”\n",
    "-Use subsetting to create a new data frame of the females that have an FL value of 15 or higher and call it “fem.lg.crabs”\n",
    "-Calculate the mean of CLxCW for this subset by species"
   ]
  },
  {
   "cell_type": "code",
   "execution_count": null,
   "id": "mental-correlation",
   "metadata": {},
   "outputs": [],
   "source": [
    "#YOUR CODE HERE"
   ]
  },
  {
   "cell_type": "markdown",
   "id": "religious-nigeria",
   "metadata": {},
   "source": [
    "### Plotting data\n",
    "ggplot is a versatile tool for making beautiful plots. "
   ]
  },
  {
   "cell_type": "markdown",
   "id": "harmful-citizenship",
   "metadata": {},
   "source": [
    "Here, we'll make a simple scatter plot of RW over BD"
   ]
  },
  {
   "cell_type": "code",
   "execution_count": null,
   "id": "continuing-reception",
   "metadata": {},
   "outputs": [],
   "source": [
    "#9.1)\n",
    "#YOUR CODE HERE\n"
   ]
  },
  {
   "cell_type": "markdown",
   "id": "leading-calendar",
   "metadata": {},
   "source": [
    "Now let's add an aesthetic mapping so that color corresponds to species."
   ]
  },
  {
   "cell_type": "code",
   "execution_count": null,
   "id": "single-senator",
   "metadata": {},
   "outputs": [],
   "source": [
    "#9.2)\n",
    "#YOUR CODE HERE\n",
    "\n"
   ]
  },
  {
   "cell_type": "markdown",
   "id": "searching-glance",
   "metadata": {},
   "source": [
    "Aw we can do better than that -- let's make blue be blue and orange be orange. Let's also make the x and y axes more descriptive."
   ]
  },
  {
   "cell_type": "code",
   "execution_count": null,
   "id": "innovative-passenger",
   "metadata": {},
   "outputs": [],
   "source": [
    "#9.3)\n",
    "#YOUR CODE HERE\n"
   ]
  },
  {
   "cell_type": "markdown",
   "id": "chief-sodium",
   "metadata": {},
   "source": [
    "### Linear modeling\n",
    "-Linear models are used to reveal associations between variables\n",
    "\n",
    "-They contain a single dependent variable (y) and one or more independent variables (x)\n",
    "\n",
    "-The linear model predicts the value of the dependent variable given the values of each of the independent variables\n",
    "\n",
    "To create a linear model we need to estimate the y intercept (B0, where the depedent variable = 0) and the slope (B1) in the following equation\n",
    "y=B0 + B1*x\n",
    "\n",
    "Now create a linear model where RW is the dependent variable and BD is the independent variable. Use summary to view the output."
   ]
  },
  {
   "cell_type": "code",
   "execution_count": null,
   "id": "surgical-display",
   "metadata": {},
   "outputs": [],
   "source": [
    "#10)\n",
    "#YOUR CODE HERE\n"
   ]
  },
  {
   "cell_type": "code",
   "execution_count": null,
   "id": "opposite-ebony",
   "metadata": {},
   "outputs": [],
   "source": [
    "#11)\n",
    "#YOUR CODE HERE\n"
   ]
  },
  {
   "cell_type": "markdown",
   "id": "otherwise-palestine",
   "metadata": {},
   "source": [
    "### Exercise 3\n",
    "-Create a linear model with body depth (BD) as the dependent variable and carapace width (CW) as the independent variable\n",
    "-Write out the linear model equation using the Y intercept and slope from the model summary\n",
    "-Write out the R2 and p value\n",
    "-Plot BD as a function of CW and add the model line to the plot\n",
    "-If you finish early, try making your plot more interesting (axis labels, color, etc.)"
   ]
  },
  {
   "cell_type": "code",
   "execution_count": null,
   "id": "dress-afternoon",
   "metadata": {},
   "outputs": [],
   "source": [
    "#YOUR CODE HERE"
   ]
  }
 ],
 "metadata": {
  "kernelspec": {
   "display_name": "R",
   "language": "R",
   "name": "ir"
  },
  "language_info": {
   "codemirror_mode": "r",
   "file_extension": ".r",
   "mimetype": "text/x-r-source",
   "name": "R",
   "pygments_lexer": "r",
   "version": "4.0.2"
  }
 },
 "nbformat": 4,
 "nbformat_minor": 5
}
