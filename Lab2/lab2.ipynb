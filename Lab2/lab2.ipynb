{
 "cells": [
  {
   "cell_type": "markdown",
   "id": "measured-trainer",
   "metadata": {},
   "source": [
    "# Lab 2"
   ]
  },
  {
   "cell_type": "markdown",
   "id": "auburn-marker",
   "metadata": {},
   "source": [
    "What packages do we always want to load?"
   ]
  },
  {
   "cell_type": "code",
   "execution_count": 1,
   "id": "correct-uganda",
   "metadata": {},
   "outputs": [
    {
     "name": "stderr",
     "output_type": "stream",
     "text": [
      "── \u001b[1mAttaching packages\u001b[22m ─────────────────────────────────────── tidyverse 1.3.0 ──\n",
      "\n",
      "\u001b[32m✔\u001b[39m \u001b[34mggplot2\u001b[39m 3.3.3     \u001b[32m✔\u001b[39m \u001b[34mpurrr  \u001b[39m 0.3.4\n",
      "\u001b[32m✔\u001b[39m \u001b[34mtibble \u001b[39m 3.1.0     \u001b[32m✔\u001b[39m \u001b[34mdplyr  \u001b[39m 1.0.4\n",
      "\u001b[32m✔\u001b[39m \u001b[34mtidyr  \u001b[39m 1.1.3     \u001b[32m✔\u001b[39m \u001b[34mstringr\u001b[39m 1.4.0\n",
      "\u001b[32m✔\u001b[39m \u001b[34mreadr  \u001b[39m 1.4.0     \u001b[32m✔\u001b[39m \u001b[34mforcats\u001b[39m 0.5.1\n",
      "\n",
      "Warning message:\n",
      "“package ‘ggplot2’ was built under R version 4.0.3”\n",
      "Warning message:\n",
      "“package ‘tibble’ was built under R version 4.0.3”\n",
      "Warning message:\n",
      "“package ‘tidyr’ was built under R version 4.0.3”\n",
      "Warning message:\n",
      "“package ‘readr’ was built under R version 4.0.3”\n",
      "Warning message:\n",
      "“package ‘dplyr’ was built under R version 4.0.3”\n",
      "Warning message:\n",
      "“package ‘forcats’ was built under R version 4.0.3”\n",
      "── \u001b[1mConflicts\u001b[22m ────────────────────────────────────────── tidyverse_conflicts() ──\n",
      "\u001b[31m✖\u001b[39m \u001b[34mdplyr\u001b[39m::\u001b[32mfilter()\u001b[39m masks \u001b[34mstats\u001b[39m::filter()\n",
      "\u001b[31m✖\u001b[39m \u001b[34mdplyr\u001b[39m::\u001b[32mlag()\u001b[39m    masks \u001b[34mstats\u001b[39m::lag()\n",
      "\n"
     ]
    }
   ],
   "source": [
    "library(tidyverse) #it's tidyverse!"
   ]
  },
  {
   "cell_type": "markdown",
   "id": "crazy-heather",
   "metadata": {},
   "source": [
    "## Thermal Sensitivity of Feeding Rate\n",
    "### Analysis\n",
    "This section will walk you through the steps needed to complete the analysis in your lab manual:\n",
    "\n",
    "\"Calculate the change in mass during the feeding period for the leaves. Construct a plot of feeding rate (y-axis: loss of leaf mass) as a function of temperature (x-axis) for each isopod species. Include the plot in your report and use the plot to answer the following questions.\""
   ]
  },
  {
   "cell_type": "markdown",
   "id": "bound-cookie",
   "metadata": {},
   "source": [
    "First read in the data file Biol421Lab2_feeding_2021.csv which is in a folder called data and assign the data frame to an object (call it \"feed\" or give it your own name... I'll refer to it as feed). Then take a look at your dataframe by just typing the name of your object (i.e. feed)"
   ]
  },
  {
   "cell_type": "code",
   "execution_count": 2,
   "id": "understanding-literature",
   "metadata": {},
   "outputs": [],
   "source": [
    "# YOUR CODE HERE\n",
    "\n"
   ]
  },
  {
   "cell_type": "markdown",
   "id": "bored-subsection",
   "metadata": {},
   "source": [
    "After looking at it, you might have noticed that there are 3 possible entries in the species column. \"b\" stands for \"blank\" without isopods. Professor Buckley used this control detect if leaves could be losing mass without isopod intervention. She found that, yes, at hotter temperatures leaves were losing water mass. We are not going to account for this in our calculations, but just keep that in mind to temper your conclusions. \n",
    "\n",
    "Anyway, for our plots, we want to get rid of the \"blank\" observations. Let's modify our dataframe now. "
   ]
  },
  {
   "cell_type": "code",
   "execution_count": 3,
   "id": "veterinary-geometry",
   "metadata": {},
   "outputs": [],
   "source": [
    "# YOUR CODE HERE\n"
   ]
  },
  {
   "cell_type": "markdown",
   "id": "opposed-count",
   "metadata": {},
   "source": [
    "You want to plot change in leaf mass, but it looks like there isn't a column for that. Looks like you need to make one using existing columns! \n",
    "\n",
    "Wanna check that it worked? Print your dataframe to see if you have a new column (or, for less clutter in the output, just use the names function to get the names of the columns)."
   ]
  },
  {
   "cell_type": "code",
   "execution_count": 4,
   "id": "demonstrated-click",
   "metadata": {},
   "outputs": [],
   "source": [
    "# YOUR CODE HERE\n"
   ]
  },
  {
   "cell_type": "markdown",
   "id": "sunset-ambassador",
   "metadata": {},
   "source": [
    "Okay, now you're ready to make the plot! I'm going to give you a template. Just fill in the \"???\" spots, remove the \"#\", and run it. Note that this time I've given you a little less guidance regarding what goes inside aes(). There are multiple entries separated by commas. Below I provide the instructions again. One thing I'd recommend is making a single plot where you differentiate the species with different colors. Feel free to refer to past plots we've made in other labs if you're feeling stuck. \n",
    "\n",
    "And don't worry about all the warnings you're about to get -- just look at the plot!\n",
    "\n",
    "\"Construct a plot of feeding rate (y-axis: loss of leaf mass) as a function of temperature (x-axis) for each isopod species.\""
   ]
  },
  {
   "cell_type": "code",
   "execution_count": 5,
   "id": "happy-marsh",
   "metadata": {},
   "outputs": [],
   "source": [
    "# YOUR CODE HERE, but here's a template:\n",
    "#ggplot(???)+aes(???)+geom_point()+geom_smooth()\n"
   ]
  },
  {
   "cell_type": "markdown",
   "id": "local-dayton",
   "metadata": {},
   "source": [
    "### Questions"
   ]
  },
  {
   "cell_type": "markdown",
   "id": "improving-swedish",
   "metadata": {},
   "source": [
    "#### Q1.   \n",
    "a. How does temperature influence isopod feeding rate?\n",
    "\n",
    "b. Are the thermal optima and thermal performance curve shapes similar between locomotion (see lab 1) and feeding?\n",
    "\n",
    "c. What differences in how locomotion and feeding determine an organism’s energy acquisition and ultimately fitness might account for any differences in the temperature dependence of performance?\n",
    "\n"
   ]
  },
  {
   "cell_type": "markdown",
   "id": "surprised-continent",
   "metadata": {},
   "source": [
    "YOUR ANSWERS HERE"
   ]
  },
  {
   "cell_type": "markdown",
   "id": "turkish-samuel",
   "metadata": {},
   "source": [
    "#### Q2. \n",
    "a. Does the temperature dependence of feeding rate vary among species? Describe any apparent differences.\n",
    "\n",
    "b. Propose evolutionary explanations for the similarities or differences."
   ]
  },
  {
   "cell_type": "markdown",
   "id": "expired-discretion",
   "metadata": {},
   "source": [
    "YOUR ANSWERS HERE"
   ]
  },
  {
   "cell_type": "markdown",
   "id": "established-compression",
   "metadata": {},
   "source": [
    "#### Q3. \n",
    "In some insect species, the thermal optima for feeding is higher than that for locomotion. Why might such differences be selected for?"
   ]
  },
  {
   "cell_type": "markdown",
   "id": "frequent-shakespeare",
   "metadata": {},
   "source": [
    "YOUR ANSWERS HERE"
   ]
  },
  {
   "cell_type": "markdown",
   "id": "upset-cherry",
   "metadata": {},
   "source": [
    "## Thermal Sensitivity of Metabolism"
   ]
  },
  {
   "cell_type": "markdown",
   "id": "imposed-testimony",
   "metadata": {},
   "source": [
    "### Analysis\n",
    "\n",
    "This section will walk you through the steps needed to complete the analysis in your lab manual. Here's all the steps, but I'll walk you through them in more detail below:\n",
    "\n",
    "1.Refer to the uploaded csv file for data on metabolic rate at each of the four treatment temperatures (20, 25, 30, and 35°C) and the average mass of the isopods for which metabolic rate was assayed. Metabolic rate (mL CO2 / hr) was estimated over a 2 hour period.\n",
    "\n",
    "2.We will construct plots to examine the temperature dependence of isopod metabolism. The initial calculations below can be made for both species together, but we will divide the species for plotting. Our first step in examining how temperature influences metabolic rate (mL CO2 / hr) is to correct for the effect of mass using the equation above.  You can do this by dividing the FMR (field metabolic rate) by M<sup>x</sup>, where x is an empirically fitted exponent. Correct for mass using two different exponents: first use x=0.75 corresponding to metabolic theory; next use an empirically estimated exponent for terrestrial isopods x=0.91.\n",
    "\n",
    "3.Let’s first examine the mass-corrected metabolic rate data across time. Plot metabolic rate through the course of measurements (across observations) for each species and temperature. (Use the x = 0.91 mass correction). [WE MODIFIED THIS ONE -- see below!]\n",
    "\n",
    "4.MR is expected to vary exponentially with temperature (B ~ e<sup>T</sup>) based on theory, so we next want to transform our MR data using the natural log.  Calculate the natural log of MR mass-corrected using each of the exponents above. (The function log() will do this in R.)\n",
    "\n",
    "5.Now, we’re ready to make two plots for temperature dependence, one for each mass-correction exponent.  Plot the natural log of mass-corrected FMR (y-axis) as a function of the treatment temperature (x-axis). Use color to distinguish the species.  \n"
   ]
  },
  {
   "cell_type": "markdown",
   "id": "existing-luther",
   "metadata": {},
   "source": [
    "#### Step 1\n",
    "\"Refer to the uploaded csv file for data on metabolic rate at each of the four treatment temperatures (20, 25, 30, and 35°C) and the average mass of the isopods for which metabolic rate was assayed. Metabolic rate (mL CO2 / hr) was estimated over a 2 hour period.\"\n",
    "\n",
    "Read in the data file Biol421Lab2_MR_CO2max_2021.csv which is in a folder called data and assign the data frame to an object (call it \"co2\" or give it your own name... I'll refer to it as co2). Then take a look at your dataframe by just typing the name of your object (i.e. co2). "
   ]
  },
  {
   "cell_type": "code",
   "execution_count": 6,
   "id": "northern-recognition",
   "metadata": {},
   "outputs": [],
   "source": [
    "#YOUR CODE HERE\n"
   ]
  },
  {
   "cell_type": "markdown",
   "id": "brilliant-escape",
   "metadata": {},
   "source": [
    "#### Step 2\n",
    "\"We will construct plots to examine the temperature dependence of isopod metabolism. The initial calculations below can be made for both species together, but we will divide the species for plotting. Our first step in examining how temperature influences metabolic rate (mL CO2 / hr) is to correct for the effect of mass using the equation above.  You can do this by dividing the FMR by M<sup>x</sup>, where x is an empirically fitted exponent. Correct for mass using two different exponents: first use x=0.75 corresponding to metabolic theory; next use an empirically estimated exponent for terrestrial isopods x=0.91.\"\n",
    "\n",
    "Okay, so to do this you first need a mass estimate for each species. We weighed a few individuals from each species (data below) and you can use their average for the mass estimate. So let's create a column for mass. You can pick which way you want to do it! \n",
    "\n",
    "A. One way to do that is to create a new column identical to the species column (but with a name like spp.mass) and then use the recode function to change the values in that column. \n",
    "\n",
    "OR\n",
    "\n",
    "B. Another is using just mutate() with an ifelse function inside (3 inputs in this order: 1. the logical to be evaluated, 2. the desired output if that logical is TRUE, and 3. the desired output if that logical is FALSE; example: ifelse(size>5, \"big\", \"small\"))"
   ]
  },
  {
   "cell_type": "code",
   "execution_count": 7,
   "id": "massive-architecture",
   "metadata": {},
   "outputs": [],
   "source": [
    "s.masses <- c(0.0835, 0.0761, 0.0868, 0.0851, 0.0512, 0.0390)\n",
    "p.masses <- c(0.0045, 0.0049, 0.0077, 0.0066, 0.0045)\n",
    "\n",
    "# YOUR CODE HERE\n"
   ]
  },
  {
   "cell_type": "markdown",
   "id": "intimate-significance",
   "metadata": {},
   "source": [
    "So now let's create two new mass-corrected MR columns where we divide the metabolic rate by M<sup>x</sup> for each value of x. I'll call them \"MR.mc.theo\" and \"MR.mc.emp\". "
   ]
  },
  {
   "cell_type": "code",
   "execution_count": 8,
   "id": "heated-perry",
   "metadata": {},
   "outputs": [],
   "source": [
    "# YOUR CODE HERE\n"
   ]
  },
  {
   "cell_type": "markdown",
   "id": "generic-bookmark",
   "metadata": {},
   "source": [
    "#### Step 3\n",
    "\"Let’s first examine the mass-corrected metabolic rate data across time. Plot metabolic rate through the course of measurements (across observations) for each species and temperature. (Use the x = 0.91 mass correction).\" \n",
    "\n",
    "INTERPRETATION/CORRECTION:\n",
    "Have temperature (not time) on the x axis and mass-corrected MR on the y axis, color by species."
   ]
  },
  {
   "cell_type": "code",
   "execution_count": 9,
   "id": "outstanding-violence",
   "metadata": {},
   "outputs": [],
   "source": [
    "# YOUR CODE HERE\n"
   ]
  },
  {
   "cell_type": "markdown",
   "id": "ethical-destruction",
   "metadata": {},
   "source": [
    "#### Step 4\n",
    "\"MR is expected to vary exponentially with temperature (B ~ e<sup>T</sup>) based on theory, so we next want to transform our MR data using the natural log.  Calculate the natural log of MR mass-corrected using each of the exponents above. (The function log() will do this in R.)\"\n",
    "\n",
    "So let's make columns lg.MR.mc.theo and lg.MR.mc.emp"
   ]
  },
  {
   "cell_type": "code",
   "execution_count": 10,
   "id": "adult-messenger",
   "metadata": {},
   "outputs": [],
   "source": [
    "# YOUR CODE HERE\n"
   ]
  },
  {
   "cell_type": "markdown",
   "id": "digital-nudist",
   "metadata": {},
   "source": [
    "#### Step 5\n",
    "\"Now, we’re ready to make two plots for temperature dependence, one for each mass-correction exponent.  Plot the natural log of mass-corrected FMR (y-axis) as a function of the treatment temperature (x-axis). Use color to distinguish the species.\""
   ]
  },
  {
   "cell_type": "markdown",
   "id": "neither-hygiene",
   "metadata": {},
   "source": [
    "Make a plot for the theoretical (x=.75) mass correction"
   ]
  },
  {
   "cell_type": "code",
   "execution_count": 11,
   "id": "cordless-funds",
   "metadata": {},
   "outputs": [],
   "source": [
    "# YOUR CODE HERE\n"
   ]
  },
  {
   "cell_type": "markdown",
   "id": "sexual-balloon",
   "metadata": {},
   "source": [
    "Make a plot for the empirical (x=.91) mass correction. You only have to change one small piece of the code from above to do this!"
   ]
  },
  {
   "cell_type": "code",
   "execution_count": 12,
   "id": "architectural-facing",
   "metadata": {},
   "outputs": [],
   "source": [
    "# YOUR CODE HERE\n"
   ]
  },
  {
   "cell_type": "markdown",
   "id": "promising-nelson",
   "metadata": {},
   "source": [
    "#### Q4\n",
    "How does the magnitude of fluctuations in metabolic rate (within measurements for a given temperature and species) compare to differences among temperatures? (Examine the plot from step 3* above.)\n",
    "\n",
    "*lab manual said step 2 -- this was a mistake"
   ]
  },
  {
   "cell_type": "markdown",
   "id": "sound-charger",
   "metadata": {},
   "source": [
    "YOUR ANSWERS HERE"
   ]
  },
  {
   "cell_type": "markdown",
   "id": "obvious-orange",
   "metadata": {},
   "source": [
    "#### Q5\n",
    "How does MR vary with temperature for each species? (Examine the plot from step 5 above.) Does it exhibit a roughly exponential relationship at lower temperatures? Is there evidence for decreased metabolism at high temperatures?"
   ]
  },
  {
   "cell_type": "markdown",
   "id": "heavy-usage",
   "metadata": {},
   "source": [
    "YOUR ANSWERS HERE"
   ]
  },
  {
   "cell_type": "markdown",
   "id": "separated-explorer",
   "metadata": {},
   "source": [
    "#### Q6\n",
    "Explain the difference between a thermal specialist and a thermal generalist. What type of environments do you think would select for thermal specialists over thermal generalists?"
   ]
  },
  {
   "cell_type": "markdown",
   "id": "clean-maple",
   "metadata": {},
   "source": [
    "YOUR ANSWERS HERE"
   ]
  },
  {
   "cell_type": "markdown",
   "id": "moral-swift",
   "metadata": {},
   "source": [
    "Great! You're done! You can submit this as a pdf on Canvas. To make the pdf go to file -> Export notebook as -> PDF "
   ]
  },
  {
   "cell_type": "code",
   "execution_count": null,
   "id": "considered-festival",
   "metadata": {},
   "outputs": [],
   "source": []
  }
 ],
 "metadata": {
  "kernelspec": {
   "display_name": "R",
   "language": "R",
   "name": "ir"
  },
  "language_info": {
   "codemirror_mode": "r",
   "file_extension": ".r",
   "mimetype": "text/x-r-source",
   "name": "R",
   "pygments_lexer": "r",
   "version": "4.0.2"
  }
 },
 "nbformat": 4,
 "nbformat_minor": 5
}
