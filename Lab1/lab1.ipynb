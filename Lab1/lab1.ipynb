{
 "cells": [
  {
   "cell_type": "markdown",
   "id": "likely-merit",
   "metadata": {},
   "source": [
    "# Lab 1"
   ]
  },
  {
   "cell_type": "markdown",
   "id": "sensitive-treat",
   "metadata": {},
   "source": [
    "What packages do we always want to load?"
   ]
  },
  {
   "cell_type": "code",
   "execution_count": 1,
   "id": "widespread-worcester",
   "metadata": {},
   "outputs": [
    {
     "name": "stderr",
     "output_type": "stream",
     "text": [
      "── \u001b[1mAttaching packages\u001b[22m ─────────────────────────────────────── tidyverse 1.3.0 ──\n",
      "\n",
      "\u001b[32m✔\u001b[39m \u001b[34mggplot2\u001b[39m 3.3.3     \u001b[32m✔\u001b[39m \u001b[34mpurrr  \u001b[39m 0.3.4\n",
      "\u001b[32m✔\u001b[39m \u001b[34mtibble \u001b[39m 3.1.0     \u001b[32m✔\u001b[39m \u001b[34mdplyr  \u001b[39m 1.0.4\n",
      "\u001b[32m✔\u001b[39m \u001b[34mtidyr  \u001b[39m 1.1.3     \u001b[32m✔\u001b[39m \u001b[34mstringr\u001b[39m 1.4.0\n",
      "\u001b[32m✔\u001b[39m \u001b[34mreadr  \u001b[39m 1.4.0     \u001b[32m✔\u001b[39m \u001b[34mforcats\u001b[39m 0.5.1\n",
      "\n",
      "Warning message:\n",
      "“package ‘ggplot2’ was built under R version 4.0.3”\n",
      "Warning message:\n",
      "“package ‘tibble’ was built under R version 4.0.3”\n",
      "Warning message:\n",
      "“package ‘tidyr’ was built under R version 4.0.3”\n",
      "Warning message:\n",
      "“package ‘readr’ was built under R version 4.0.3”\n",
      "Warning message:\n",
      "“package ‘dplyr’ was built under R version 4.0.3”\n",
      "Warning message:\n",
      "“package ‘forcats’ was built under R version 4.0.3”\n",
      "── \u001b[1mConflicts\u001b[22m ────────────────────────────────────────── tidyverse_conflicts() ──\n",
      "\u001b[31m✖\u001b[39m \u001b[34mdplyr\u001b[39m::\u001b[32mfilter()\u001b[39m masks \u001b[34mstats\u001b[39m::filter()\n",
      "\u001b[31m✖\u001b[39m \u001b[34mdplyr\u001b[39m::\u001b[32mlag()\u001b[39m    masks \u001b[34mstats\u001b[39m::lag()\n",
      "\n"
     ]
    }
   ],
   "source": [
    "library(tidyverse) #it's tidyverse!"
   ]
  },
  {
   "cell_type": "markdown",
   "id": "fossil-conjunction",
   "metadata": {},
   "source": [
    "## Thermal sensitivity of walking speed\n",
    "### Analysis\n",
    "This section will walk you through the steps needed to complete the analysis in your lab manual:\n",
    "\n",
    "\"Use the provided data to plot the relationship between body temperature and walking speed for each species.  Include the plot in your report and answer the following questions based on the data for each species.\""
   ]
  },
  {
   "cell_type": "markdown",
   "id": "reported-business",
   "metadata": {},
   "source": [
    "First read in the data file Biol421Lab1_walking_2021.csv which is in a folder called data and assign the data frame to an object (call it \"perf\" or give it your own name... I'll refer to it as perf)."
   ]
  },
  {
   "cell_type": "code",
   "execution_count": 2,
   "id": "incomplete-passion",
   "metadata": {},
   "outputs": [],
   "source": [
    "# YOUR CODE HERE\n"
   ]
  },
  {
   "cell_type": "markdown",
   "id": "understanding-strengthening",
   "metadata": {},
   "source": [
    "Take a look at your dataframe by just typing the name of your object (i.e. perf)"
   ]
  },
  {
   "cell_type": "code",
   "execution_count": 3,
   "id": "interracial-robertson",
   "metadata": {},
   "outputs": [],
   "source": [
    "# YOUR CODE HERE\n"
   ]
  },
  {
   "cell_type": "markdown",
   "id": "fabulous-sauce",
   "metadata": {},
   "source": [
    "You want to plot walking speed, but it looks like there isn't a walking speed column. Looks like you need to make one using existing columns! \n",
    "(Hint: use the mutate() function. Another hint: remember to assign the new data frame to an object... I personally assigned it to perf, overwriting the old data frame.)\n",
    "\n",
    "Wanna check that it worked? Print your dataframe to see if you have a new column."
   ]
  },
  {
   "cell_type": "code",
   "execution_count": 4,
   "id": "detailed-restriction",
   "metadata": {},
   "outputs": [],
   "source": [
    "# YOUR CODE HERE\n"
   ]
  },
  {
   "cell_type": "markdown",
   "id": "endless-harassment",
   "metadata": {},
   "source": [
    "Okay, now you're ready to make the plot! I'm going to give you a template. Just fill in the \"???\" spots, remove the \"#\", and run it "
   ]
  },
  {
   "cell_type": "code",
   "execution_count": 5,
   "id": "needed-grammar",
   "metadata": {},
   "outputs": [],
   "source": [
    "# YOUR CODE HERE, but here's a template:\n",
    "#ggplot(???)+aes(x=???, y = ???, color=???)+geom_point()+geom_smooth()\n"
   ]
  },
  {
   "cell_type": "markdown",
   "id": "narrative-trigger",
   "metadata": {},
   "source": [
    "### Questions"
   ]
  },
  {
   "cell_type": "markdown",
   "id": "going-creator",
   "metadata": {},
   "source": [
    "#### Q1.   \n",
    "a. What temperature appears to maximize the speed of each isopod species (Topt)? Are the relative Topts consistent with expectations for the species?\n",
    "\n",
    "b. What are the relative speeds of the species at these temperatures (Pmax)? \n",
    "\n",
    "c. Would you characterize each species as a thermal specialist or a thermal generalist? Which species has a broader thermal sensitivity? Are the relative thermal sensitivities consistent with your expectations for each species?\n"
   ]
  },
  {
   "cell_type": "markdown",
   "id": "invisible-particular",
   "metadata": {},
   "source": [
    "YOUR ANSWERS HERE"
   ]
  },
  {
   "cell_type": "markdown",
   "id": "reasonable-qatar",
   "metadata": {},
   "source": [
    "#### Q2. \n",
    "Do the isopod data correspond to the canonical thermal performance curve shape depicted in Fig. 2? Why do you think performance curves for performances such as locomotion tend to be steeper at warm temperatures?"
   ]
  },
  {
   "cell_type": "markdown",
   "id": "dramatic-novelty",
   "metadata": {},
   "source": [
    "YOUR ANSWERS HERE"
   ]
  },
  {
   "cell_type": "markdown",
   "id": "monthly-closure",
   "metadata": {},
   "source": [
    "## Preferred Temperatures in a Thermal Gradient "
   ]
  },
  {
   "cell_type": "markdown",
   "id": "progressive-relations",
   "metadata": {},
   "source": [
    "### Analysis\n",
    "This section will walk you through the steps needed to complete the analysis in your lab manual:\n",
    "\n",
    "\"Plot the distribution of preferred body temperatures for each species. Estimate the preferred body temperature as the mean and median temperature across all individuals for each species. Estimate the range of preferred temperatures as the 10% and 90% quantiles of preferred body temperatures for each species [quantile function in R, e.g., quantile(x, probs=seq(0.1,0.9))]. Include this information in your report and use it to answer the questions below.\""
   ]
  },
  {
   "cell_type": "markdown",
   "id": "opposite-google",
   "metadata": {},
   "source": [
    "First read in the data file Biol421Lab1_pbt_2021.csv which is in a folder called data. I assigned it to an object called \"pbt\". "
   ]
  },
  {
   "cell_type": "code",
   "execution_count": 6,
   "id": "atlantic-istanbul",
   "metadata": {},
   "outputs": [],
   "source": [
    "#YOUR CODE HERE\n"
   ]
  },
  {
   "cell_type": "markdown",
   "id": "continent-generator",
   "metadata": {},
   "source": [
    "Take a look at your dataframe."
   ]
  },
  {
   "cell_type": "code",
   "execution_count": 7,
   "id": "lyric-buying",
   "metadata": {},
   "outputs": [],
   "source": [
    "#YOUR CODE HERE\n"
   ]
  },
  {
   "cell_type": "markdown",
   "id": "computational-montreal",
   "metadata": {},
   "source": [
    "Okay time to make the plot. I'll give you a template again. Note that we're doing something a little different here. There is no y variable -- we're making a density plot so the y axis is density."
   ]
  },
  {
   "cell_type": "code",
   "execution_count": 8,
   "id": "visible-cologne",
   "metadata": {},
   "outputs": [],
   "source": [
    "# YOUR CODE HERE, but here's a template:\n",
    "#ggplot(???)+aes(x=???, color=???)+geom_density()\n"
   ]
  },
  {
   "cell_type": "markdown",
   "id": "loving-jefferson",
   "metadata": {},
   "source": [
    "Okay, so now we want several statistics. Let's make a table with all of these statistics. This looks like a job the group_by() and summarize() functions. Give it a try!\n",
    "\n",
    "Here's the relevant part of the analysis procedure again:\n",
    "\"Estimate the preferred body temperature as the mean and median temperature across all individuals for each species. Estimate the range of preferred temperatures as the 10% and 90% quantiles of preferred body temperatures for each species [quantile function in R, e.g., quantile(x, probs=seq(0.1,0.9))].\"\n",
    "\n",
    "NOTE: Minor correction on the quantile function: First instead of seq, you'd put c. But actually for this table why don't we calculate the 10th and 90th separately. So that would look like quantile(x, .1) and quantile(x, .9)."
   ]
  },
  {
   "cell_type": "code",
   "execution_count": 9,
   "id": "english-kruger",
   "metadata": {},
   "outputs": [],
   "source": [
    "# YOUR CODE HERE\n"
   ]
  },
  {
   "cell_type": "markdown",
   "id": "domestic-midwest",
   "metadata": {},
   "source": [
    "### Questions\n",
    "#### Q3 \n",
    "Is the mean or median a more appropriate metric of preferred body temperature? Why? Do the species prefer different temperatures? Do their temperature preferences support the hypothesis about the species’ origin and thermal adaptation?\n"
   ]
  },
  {
   "cell_type": "markdown",
   "id": "reasonable-parcel",
   "metadata": {},
   "source": [
    "YOUR ANSWERS HERE"
   ]
  },
  {
   "cell_type": "markdown",
   "id": "gothic-cause",
   "metadata": {},
   "source": [
    "#### Q4\n",
    "Now consider the match between the preferred temperatures and the thermal sensitivity of walking speed. How does the range of preferred temperatures relate to the performance curve? Is this range within the 80% performance breadth? Does it overlap with the thermal optimum? If not, what factors might explain the mismatch between these two traits?"
   ]
  },
  {
   "cell_type": "markdown",
   "id": "vocational-modem",
   "metadata": {},
   "source": [
    "YOUR ANSWERS HERE (you can eyeball the 80% performance breadth)"
   ]
  },
  {
   "cell_type": "markdown",
   "id": "refined-poker",
   "metadata": {},
   "source": [
    "#### Q5\n",
    "During this lab, we measured the thermal sensitivity of locomotor performance. However, organisms are sensitive to many abiotic factors. Can you think of other abiotic factors that influence organismal performance? List both the factor and the type of performance."
   ]
  },
  {
   "cell_type": "markdown",
   "id": "parliamentary-morris",
   "metadata": {},
   "source": [
    "YOUR ANSWERS HERE"
   ]
  },
  {
   "cell_type": "markdown",
   "id": "sensitive-mills",
   "metadata": {},
   "source": [
    "#### Q6\n",
    "Explain the difference between a thermal specialist and a thermal generalist. What type of environments do you think would select for thermal specialists over thermal generalists?"
   ]
  },
  {
   "cell_type": "markdown",
   "id": "sustained-tsunami",
   "metadata": {},
   "source": [
    "YOUR ANSWERS HERE"
   ]
  },
  {
   "cell_type": "markdown",
   "id": "stylish-dialogue",
   "metadata": {},
   "source": [
    "Great! You're done! You can submit this as a pdf on Canvas. To make the pdf go to file -> Export notebook as -> PDF "
   ]
  },
  {
   "cell_type": "code",
   "execution_count": null,
   "id": "advisory-powder",
   "metadata": {},
   "outputs": [],
   "source": []
  }
 ],
 "metadata": {
  "kernelspec": {
   "display_name": "R",
   "language": "R",
   "name": "ir"
  },
  "language_info": {
   "codemirror_mode": "r",
   "file_extension": ".r",
   "mimetype": "text/x-r-source",
   "name": "R",
   "pygments_lexer": "r",
   "version": "4.0.2"
  }
 },
 "nbformat": 4,
 "nbformat_minor": 5
}
