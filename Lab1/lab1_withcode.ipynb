{
 "cells": [
  {
   "cell_type": "markdown",
   "id": "governing-administration",
   "metadata": {},
   "source": [
    "# Lab 1"
   ]
  },
  {
   "cell_type": "markdown",
   "id": "juvenile-methodology",
   "metadata": {},
   "source": [
    "What packages do we always want to load?"
   ]
  },
  {
   "cell_type": "code",
   "execution_count": 34,
   "id": "removed-bradley",
   "metadata": {},
   "outputs": [],
   "source": [
    "library(tidyverse) #it's tidyverse!"
   ]
  },
  {
   "cell_type": "markdown",
   "id": "connected-drive",
   "metadata": {},
   "source": [
    "## Thermal sensitivity of walking speed\n",
    "### Analysis\n",
    "This section will walk you through the steps needed to complete the analysis in your lab manual:\n",
    "\n",
    "\"Use the provided data to plot the relationship between body temperature and walking speed for each species.  Include the plot in your report and answer the following questions based on the data for each species.\""
   ]
  },
  {
   "cell_type": "markdown",
   "id": "regular-oracle",
   "metadata": {},
   "source": [
    "First read in the data file Biol421Lab1_walking_2021.csv which is in a folder called data and assign the data frame to an object (call it \"perf\" or give it your own name... I'll refer to it as perf)."
   ]
  },
  {
   "cell_type": "code",
   "execution_count": 35,
   "id": "national-completion",
   "metadata": {},
   "outputs": [],
   "source": [
    "# YOUR CODE HERE\n",
    "perf <- read.csv(\"data/Biol421Lab1_walking_2021.csv\")"
   ]
  },
  {
   "cell_type": "markdown",
   "id": "champion-burke",
   "metadata": {},
   "source": [
    "Take a look at your dataframe by just typing the name of your object (i.e. perf)"
   ]
  },
  {
   "cell_type": "code",
   "execution_count": 36,
   "id": "explicit-society",
   "metadata": {},
   "outputs": [
    {
     "data": {
      "text/html": [
       "<table class=\"dataframe\">\n",
       "<caption>A data.frame: 132 × 4</caption>\n",
       "<thead>\n",
       "\t<tr><th scope=col>species</th><th scope=col>temperature_C</th><th scope=col>interval_cm</th><th scope=col>time_s</th></tr>\n",
       "\t<tr><th scope=col>&lt;chr&gt;</th><th scope=col>&lt;dbl&gt;</th><th scope=col>&lt;int&gt;</th><th scope=col>&lt;dbl&gt;</th></tr>\n",
       "</thead>\n",
       "<tbody>\n",
       "\t<tr><td>p</td><td>21.40</td><td>10</td><td> 7.25</td></tr>\n",
       "\t<tr><td>p</td><td>21.43</td><td>10</td><td> 8.46</td></tr>\n",
       "\t<tr><td>p</td><td>21.50</td><td>10</td><td>12.13</td></tr>\n",
       "\t<tr><td>p</td><td>21.50</td><td> 9</td><td>14.20</td></tr>\n",
       "\t<tr><td>p</td><td>21.55</td><td>10</td><td> 9.80</td></tr>\n",
       "\t<tr><td>s</td><td>21.60</td><td>10</td><td>22.30</td></tr>\n",
       "\t<tr><td>s</td><td>21.67</td><td>10</td><td>27.63</td></tr>\n",
       "\t<tr><td>p</td><td>21.71</td><td>10</td><td> 5.86</td></tr>\n",
       "\t<tr><td>p</td><td>21.74</td><td>10</td><td>14.25</td></tr>\n",
       "\t<tr><td>s</td><td>21.78</td><td>10</td><td>14.10</td></tr>\n",
       "\t<tr><td>s</td><td>21.84</td><td>10</td><td>10.60</td></tr>\n",
       "\t<tr><td>s</td><td>21.95</td><td>10</td><td>15.70</td></tr>\n",
       "\t<tr><td>p</td><td>21.96</td><td> 8</td><td> 7.40</td></tr>\n",
       "\t<tr><td>s</td><td>22.00</td><td>10</td><td> 5.15</td></tr>\n",
       "\t<tr><td>s</td><td>22.00</td><td> 8</td><td> 7.50</td></tr>\n",
       "\t<tr><td>s</td><td>22.00</td><td>10</td><td>17.38</td></tr>\n",
       "\t<tr><td>p</td><td>22.00</td><td>10</td><td>16.08</td></tr>\n",
       "\t<tr><td>s</td><td>22.00</td><td>10</td><td> 4.36</td></tr>\n",
       "\t<tr><td>s</td><td>22.00</td><td>10</td><td> 9.98</td></tr>\n",
       "\t<tr><td>s</td><td>22.00</td><td>10</td><td>13.97</td></tr>\n",
       "\t<tr><td>p</td><td>22.00</td><td>20</td><td>22.48</td></tr>\n",
       "\t<tr><td>p</td><td>22.00</td><td>10</td><td> 8.66</td></tr>\n",
       "\t<tr><td>s</td><td>22.00</td><td>10</td><td> 4.60</td></tr>\n",
       "\t<tr><td>p</td><td>22.00</td><td> 7</td><td> 7.95</td></tr>\n",
       "\t<tr><td>p</td><td>22.00</td><td>10</td><td> 8.88</td></tr>\n",
       "\t<tr><td>p</td><td>22.00</td><td>10</td><td>24.75</td></tr>\n",
       "\t<tr><td>s</td><td>22.00</td><td> 8</td><td> 8.70</td></tr>\n",
       "\t<tr><td>p</td><td>22.00</td><td> 8</td><td>12.13</td></tr>\n",
       "\t<tr><td>s</td><td>22.12</td><td>10</td><td> 6.70</td></tr>\n",
       "\t<tr><td>s</td><td>23.85</td><td>10</td><td> 7.82</td></tr>\n",
       "\t<tr><td>⋮</td><td>⋮</td><td>⋮</td><td>⋮</td></tr>\n",
       "\t<tr><td>s</td><td>36.37</td><td>10</td><td> 12.34</td></tr>\n",
       "\t<tr><td>s</td><td>36.49</td><td>10</td><td> 14.08</td></tr>\n",
       "\t<tr><td>s</td><td>36.59</td><td>10</td><td> 14.30</td></tr>\n",
       "\t<tr><td>p</td><td>36.70</td><td> 3</td><td> 17.65</td></tr>\n",
       "\t<tr><td>p</td><td>36.78</td><td>10</td><td> 17.45</td></tr>\n",
       "\t<tr><td>p</td><td>36.84</td><td> 0</td><td>-99.00</td></tr>\n",
       "\t<tr><td>s</td><td>36.86</td><td>10</td><td> 10.81</td></tr>\n",
       "\t<tr><td>s</td><td>36.88</td><td>10</td><td>  3.16</td></tr>\n",
       "\t<tr><td>s</td><td>36.93</td><td>10</td><td>  5.31</td></tr>\n",
       "\t<tr><td>s</td><td>36.94</td><td>10</td><td> 10.76</td></tr>\n",
       "\t<tr><td>s</td><td>36.98</td><td>10</td><td>  5.17</td></tr>\n",
       "\t<tr><td>s</td><td>37.02</td><td>10</td><td>  4.78</td></tr>\n",
       "\t<tr><td>s</td><td>37.08</td><td>10</td><td>  4.93</td></tr>\n",
       "\t<tr><td>s</td><td>37.09</td><td>10</td><td>  7.56</td></tr>\n",
       "\t<tr><td>s</td><td>37.17</td><td>10</td><td>  3.86</td></tr>\n",
       "\t<tr><td>s</td><td>37.24</td><td>10</td><td>  5.70</td></tr>\n",
       "\t<tr><td>s</td><td>37.27</td><td>10</td><td> 12.06</td></tr>\n",
       "\t<tr><td>s</td><td>37.32</td><td> 6</td><td>  8.03</td></tr>\n",
       "\t<tr><td>p</td><td>37.35</td><td>10</td><td> 18.36</td></tr>\n",
       "\t<tr><td>s</td><td>37.38</td><td>10</td><td> 15.53</td></tr>\n",
       "\t<tr><td>s</td><td>37.41</td><td>10</td><td>  6.20</td></tr>\n",
       "\t<tr><td>s</td><td>37.49</td><td>10</td><td>  5.95</td></tr>\n",
       "\t<tr><td>s</td><td>37.53</td><td>10</td><td>  4.60</td></tr>\n",
       "\t<tr><td>s</td><td>37.66</td><td>10</td><td> 19.66</td></tr>\n",
       "\t<tr><td>s</td><td>37.75</td><td>10</td><td>  4.63</td></tr>\n",
       "\t<tr><td>s</td><td>38.28</td><td>10</td><td> 22.93</td></tr>\n",
       "\t<tr><td>s</td><td>38.46</td><td>10</td><td>  6.38</td></tr>\n",
       "\t<tr><td>s</td><td>38.80</td><td>10</td><td>  3.76</td></tr>\n",
       "\t<tr><td>s</td><td>39.02</td><td>10</td><td>  5.80</td></tr>\n",
       "\t<tr><td>s</td><td>39.27</td><td>10</td><td> 19.92</td></tr>\n",
       "</tbody>\n",
       "</table>\n"
      ],
      "text/latex": [
       "A data.frame: 132 × 4\n",
       "\\begin{tabular}{llll}\n",
       " species & temperature\\_C & interval\\_cm & time\\_s\\\\\n",
       " <chr> & <dbl> & <int> & <dbl>\\\\\n",
       "\\hline\n",
       "\t p & 21.40 & 10 &  7.25\\\\\n",
       "\t p & 21.43 & 10 &  8.46\\\\\n",
       "\t p & 21.50 & 10 & 12.13\\\\\n",
       "\t p & 21.50 &  9 & 14.20\\\\\n",
       "\t p & 21.55 & 10 &  9.80\\\\\n",
       "\t s & 21.60 & 10 & 22.30\\\\\n",
       "\t s & 21.67 & 10 & 27.63\\\\\n",
       "\t p & 21.71 & 10 &  5.86\\\\\n",
       "\t p & 21.74 & 10 & 14.25\\\\\n",
       "\t s & 21.78 & 10 & 14.10\\\\\n",
       "\t s & 21.84 & 10 & 10.60\\\\\n",
       "\t s & 21.95 & 10 & 15.70\\\\\n",
       "\t p & 21.96 &  8 &  7.40\\\\\n",
       "\t s & 22.00 & 10 &  5.15\\\\\n",
       "\t s & 22.00 &  8 &  7.50\\\\\n",
       "\t s & 22.00 & 10 & 17.38\\\\\n",
       "\t p & 22.00 & 10 & 16.08\\\\\n",
       "\t s & 22.00 & 10 &  4.36\\\\\n",
       "\t s & 22.00 & 10 &  9.98\\\\\n",
       "\t s & 22.00 & 10 & 13.97\\\\\n",
       "\t p & 22.00 & 20 & 22.48\\\\\n",
       "\t p & 22.00 & 10 &  8.66\\\\\n",
       "\t s & 22.00 & 10 &  4.60\\\\\n",
       "\t p & 22.00 &  7 &  7.95\\\\\n",
       "\t p & 22.00 & 10 &  8.88\\\\\n",
       "\t p & 22.00 & 10 & 24.75\\\\\n",
       "\t s & 22.00 &  8 &  8.70\\\\\n",
       "\t p & 22.00 &  8 & 12.13\\\\\n",
       "\t s & 22.12 & 10 &  6.70\\\\\n",
       "\t s & 23.85 & 10 &  7.82\\\\\n",
       "\t ⋮ & ⋮ & ⋮ & ⋮\\\\\n",
       "\t s & 36.37 & 10 &  12.34\\\\\n",
       "\t s & 36.49 & 10 &  14.08\\\\\n",
       "\t s & 36.59 & 10 &  14.30\\\\\n",
       "\t p & 36.70 &  3 &  17.65\\\\\n",
       "\t p & 36.78 & 10 &  17.45\\\\\n",
       "\t p & 36.84 &  0 & -99.00\\\\\n",
       "\t s & 36.86 & 10 &  10.81\\\\\n",
       "\t s & 36.88 & 10 &   3.16\\\\\n",
       "\t s & 36.93 & 10 &   5.31\\\\\n",
       "\t s & 36.94 & 10 &  10.76\\\\\n",
       "\t s & 36.98 & 10 &   5.17\\\\\n",
       "\t s & 37.02 & 10 &   4.78\\\\\n",
       "\t s & 37.08 & 10 &   4.93\\\\\n",
       "\t s & 37.09 & 10 &   7.56\\\\\n",
       "\t s & 37.17 & 10 &   3.86\\\\\n",
       "\t s & 37.24 & 10 &   5.70\\\\\n",
       "\t s & 37.27 & 10 &  12.06\\\\\n",
       "\t s & 37.32 &  6 &   8.03\\\\\n",
       "\t p & 37.35 & 10 &  18.36\\\\\n",
       "\t s & 37.38 & 10 &  15.53\\\\\n",
       "\t s & 37.41 & 10 &   6.20\\\\\n",
       "\t s & 37.49 & 10 &   5.95\\\\\n",
       "\t s & 37.53 & 10 &   4.60\\\\\n",
       "\t s & 37.66 & 10 &  19.66\\\\\n",
       "\t s & 37.75 & 10 &   4.63\\\\\n",
       "\t s & 38.28 & 10 &  22.93\\\\\n",
       "\t s & 38.46 & 10 &   6.38\\\\\n",
       "\t s & 38.80 & 10 &   3.76\\\\\n",
       "\t s & 39.02 & 10 &   5.80\\\\\n",
       "\t s & 39.27 & 10 &  19.92\\\\\n",
       "\\end{tabular}\n"
      ],
      "text/markdown": [
       "\n",
       "A data.frame: 132 × 4\n",
       "\n",
       "| species &lt;chr&gt; | temperature_C &lt;dbl&gt; | interval_cm &lt;int&gt; | time_s &lt;dbl&gt; |\n",
       "|---|---|---|---|\n",
       "| p | 21.40 | 10 |  7.25 |\n",
       "| p | 21.43 | 10 |  8.46 |\n",
       "| p | 21.50 | 10 | 12.13 |\n",
       "| p | 21.50 |  9 | 14.20 |\n",
       "| p | 21.55 | 10 |  9.80 |\n",
       "| s | 21.60 | 10 | 22.30 |\n",
       "| s | 21.67 | 10 | 27.63 |\n",
       "| p | 21.71 | 10 |  5.86 |\n",
       "| p | 21.74 | 10 | 14.25 |\n",
       "| s | 21.78 | 10 | 14.10 |\n",
       "| s | 21.84 | 10 | 10.60 |\n",
       "| s | 21.95 | 10 | 15.70 |\n",
       "| p | 21.96 |  8 |  7.40 |\n",
       "| s | 22.00 | 10 |  5.15 |\n",
       "| s | 22.00 |  8 |  7.50 |\n",
       "| s | 22.00 | 10 | 17.38 |\n",
       "| p | 22.00 | 10 | 16.08 |\n",
       "| s | 22.00 | 10 |  4.36 |\n",
       "| s | 22.00 | 10 |  9.98 |\n",
       "| s | 22.00 | 10 | 13.97 |\n",
       "| p | 22.00 | 20 | 22.48 |\n",
       "| p | 22.00 | 10 |  8.66 |\n",
       "| s | 22.00 | 10 |  4.60 |\n",
       "| p | 22.00 |  7 |  7.95 |\n",
       "| p | 22.00 | 10 |  8.88 |\n",
       "| p | 22.00 | 10 | 24.75 |\n",
       "| s | 22.00 |  8 |  8.70 |\n",
       "| p | 22.00 |  8 | 12.13 |\n",
       "| s | 22.12 | 10 |  6.70 |\n",
       "| s | 23.85 | 10 |  7.82 |\n",
       "| ⋮ | ⋮ | ⋮ | ⋮ |\n",
       "| s | 36.37 | 10 |  12.34 |\n",
       "| s | 36.49 | 10 |  14.08 |\n",
       "| s | 36.59 | 10 |  14.30 |\n",
       "| p | 36.70 |  3 |  17.65 |\n",
       "| p | 36.78 | 10 |  17.45 |\n",
       "| p | 36.84 |  0 | -99.00 |\n",
       "| s | 36.86 | 10 |  10.81 |\n",
       "| s | 36.88 | 10 |   3.16 |\n",
       "| s | 36.93 | 10 |   5.31 |\n",
       "| s | 36.94 | 10 |  10.76 |\n",
       "| s | 36.98 | 10 |   5.17 |\n",
       "| s | 37.02 | 10 |   4.78 |\n",
       "| s | 37.08 | 10 |   4.93 |\n",
       "| s | 37.09 | 10 |   7.56 |\n",
       "| s | 37.17 | 10 |   3.86 |\n",
       "| s | 37.24 | 10 |   5.70 |\n",
       "| s | 37.27 | 10 |  12.06 |\n",
       "| s | 37.32 |  6 |   8.03 |\n",
       "| p | 37.35 | 10 |  18.36 |\n",
       "| s | 37.38 | 10 |  15.53 |\n",
       "| s | 37.41 | 10 |   6.20 |\n",
       "| s | 37.49 | 10 |   5.95 |\n",
       "| s | 37.53 | 10 |   4.60 |\n",
       "| s | 37.66 | 10 |  19.66 |\n",
       "| s | 37.75 | 10 |   4.63 |\n",
       "| s | 38.28 | 10 |  22.93 |\n",
       "| s | 38.46 | 10 |   6.38 |\n",
       "| s | 38.80 | 10 |   3.76 |\n",
       "| s | 39.02 | 10 |   5.80 |\n",
       "| s | 39.27 | 10 |  19.92 |\n",
       "\n"
      ],
      "text/plain": [
       "    species temperature_C interval_cm time_s\n",
       "1   p       21.40         10           7.25 \n",
       "2   p       21.43         10           8.46 \n",
       "3   p       21.50         10          12.13 \n",
       "4   p       21.50          9          14.20 \n",
       "5   p       21.55         10           9.80 \n",
       "6   s       21.60         10          22.30 \n",
       "7   s       21.67         10          27.63 \n",
       "8   p       21.71         10           5.86 \n",
       "9   p       21.74         10          14.25 \n",
       "10  s       21.78         10          14.10 \n",
       "11  s       21.84         10          10.60 \n",
       "12  s       21.95         10          15.70 \n",
       "13  p       21.96          8           7.40 \n",
       "14  s       22.00         10           5.15 \n",
       "15  s       22.00          8           7.50 \n",
       "16  s       22.00         10          17.38 \n",
       "17  p       22.00         10          16.08 \n",
       "18  s       22.00         10           4.36 \n",
       "19  s       22.00         10           9.98 \n",
       "20  s       22.00         10          13.97 \n",
       "21  p       22.00         20          22.48 \n",
       "22  p       22.00         10           8.66 \n",
       "23  s       22.00         10           4.60 \n",
       "24  p       22.00          7           7.95 \n",
       "25  p       22.00         10           8.88 \n",
       "26  p       22.00         10          24.75 \n",
       "27  s       22.00          8           8.70 \n",
       "28  p       22.00          8          12.13 \n",
       "29  s       22.12         10           6.70 \n",
       "30  s       23.85         10           7.82 \n",
       "⋮   ⋮       ⋮             ⋮           ⋮     \n",
       "103 s       36.37         10           12.34\n",
       "104 s       36.49         10           14.08\n",
       "105 s       36.59         10           14.30\n",
       "106 p       36.70          3           17.65\n",
       "107 p       36.78         10           17.45\n",
       "108 p       36.84          0          -99.00\n",
       "109 s       36.86         10           10.81\n",
       "110 s       36.88         10            3.16\n",
       "111 s       36.93         10            5.31\n",
       "112 s       36.94         10           10.76\n",
       "113 s       36.98         10            5.17\n",
       "114 s       37.02         10            4.78\n",
       "115 s       37.08         10            4.93\n",
       "116 s       37.09         10            7.56\n",
       "117 s       37.17         10            3.86\n",
       "118 s       37.24         10            5.70\n",
       "119 s       37.27         10           12.06\n",
       "120 s       37.32          6            8.03\n",
       "121 p       37.35         10           18.36\n",
       "122 s       37.38         10           15.53\n",
       "123 s       37.41         10            6.20\n",
       "124 s       37.49         10            5.95\n",
       "125 s       37.53         10            4.60\n",
       "126 s       37.66         10           19.66\n",
       "127 s       37.75         10            4.63\n",
       "128 s       38.28         10           22.93\n",
       "129 s       38.46         10            6.38\n",
       "130 s       38.80         10            3.76\n",
       "131 s       39.02         10            5.80\n",
       "132 s       39.27         10           19.92"
      ]
     },
     "metadata": {},
     "output_type": "display_data"
    }
   ],
   "source": [
    "# YOUR CODE HERE\n",
    "perf"
   ]
  },
  {
   "cell_type": "markdown",
   "id": "unlike-remains",
   "metadata": {},
   "source": [
    "You want to plot walking speed, but it looks like there isn't a walking speed column. Looks like you need to make one using existing columns! \n",
    "(Hint: use the mutate() function. Another hint: remember to assign the new data frame to an object... I personally assigned it to perf, overwriting the old data frame.)\n",
    "\n",
    "Wanna check that it worked? Print your dataframe to see if you have a new column."
   ]
  },
  {
   "cell_type": "code",
   "execution_count": 4,
   "id": "fresh-nudist",
   "metadata": {},
   "outputs": [],
   "source": [
    "# YOUR CODE HERE\n",
    "perf <- perf %>% mutate(speed_cms=interval_cm/time_s)"
   ]
  },
  {
   "cell_type": "markdown",
   "id": "convertible-collector",
   "metadata": {},
   "source": [
    "Okay, now you're ready to make the plot! I'm going to give you a template. Just fill in the \"???\" spots, remove the \"#\", and run it "
   ]
  },
  {
   "cell_type": "code",
   "execution_count": 7,
   "id": "white-integration",
   "metadata": {},
   "outputs": [
    {
     "name": "stderr",
     "output_type": "stream",
     "text": [
      "`geom_smooth()` using method = 'loess' and formula 'y ~ x'\n",
      "\n"
     ]
    },
    {
     "data": {
      "image/png": "[encoded data removed]",
      "text/plain": [
       "plot without title"
      ]
     },
     "metadata": {
      "image/png": {
       "height": 420,
       "width": 420
      }
     },
     "output_type": "display_data"
    }
   ],
   "source": [
    "# YOUR CODE HERE, but here's a template:\n",
    "#ggplot(???)+aes(x=???, y = ???, color=???)+geom_point()+geom_smooth()\n",
    "ggplot(perf)+aes(x=temperature_C, y = speed_cms, color=species)+geom_point()+geom_smooth()"
   ]
  },
  {
   "cell_type": "markdown",
   "id": "secure-howard",
   "metadata": {},
   "source": [
    "### Questions"
   ]
  },
  {
   "cell_type": "markdown",
   "id": "guided-chain",
   "metadata": {},
   "source": [
    "#### Q1.   \n",
    "a. What temperature appears to maximize the speed of each isopod species (Topt)? Are the relative Topts consistent with expectations for the species?\n",
    "\n",
    "b. What are the relative speeds of the species at these temperatures (Pmax)? \n",
    "\n",
    "c. Would you characterize each species as a thermal specialist or a thermal generalist? Which species has a broader thermal sensitivity? Are the relative thermal sensitivities consistent with your expectations for each species?\n"
   ]
  },
  {
   "cell_type": "markdown",
   "id": "korean-insert",
   "metadata": {},
   "source": [
    "YOUR ANSWERS HERE"
   ]
  },
  {
   "cell_type": "markdown",
   "id": "dutch-receipt",
   "metadata": {},
   "source": [
    "#### Q2. \n",
    "Do the isopod data correspond to the canonical thermal performance curve shape depicted in Fig. 2? Why do you think performance curves for performances such as locomotion tend to be steeper at warm temperatures?"
   ]
  },
  {
   "cell_type": "markdown",
   "id": "historic-bearing",
   "metadata": {},
   "source": [
    "YOUR ANSWERS HERE"
   ]
  },
  {
   "cell_type": "markdown",
   "id": "monthly-mauritius",
   "metadata": {},
   "source": [
    "## Preferred Temperatures in a Thermal Gradient "
   ]
  },
  {
   "cell_type": "markdown",
   "id": "guilty-gossip",
   "metadata": {},
   "source": [
    "### Analysis\n",
    "This section will walk you through the steps needed to complete the analysis in your lab manual:\n",
    "\n",
    "\"Plot the distribution of preferred body temperatures for each species. Estimate the preferred body temperature as the mean and median temperature across all individuals for each species. Estimate the range of preferred temperatures as the 10% and 90% quantiles of preferred body temperatures for each species [quantile function in R, e.g., quantile(x, probs=seq(0.1,0.9))]. Include this information in your report and use it to answer the questions below.\""
   ]
  },
  {
   "cell_type": "markdown",
   "id": "sublime-corporation",
   "metadata": {},
   "source": [
    "First read in the data file Biol421Lab1_pbt_2021.csv which is in a folder called data. I assigned it to an object called \"pbt\". "
   ]
  },
  {
   "cell_type": "code",
   "execution_count": 8,
   "id": "accomplished-gambling",
   "metadata": {},
   "outputs": [],
   "source": [
    "#YOUR CODE HERE\n",
    "pbt <- read.csv(\"data/Biol421Lab1_pbt_2021.csv\")"
   ]
  },
  {
   "cell_type": "markdown",
   "id": "italian-accountability",
   "metadata": {},
   "source": [
    "Take a look at your dataframe."
   ]
  },
  {
   "cell_type": "code",
   "execution_count": 9,
   "id": "stable-tender",
   "metadata": {},
   "outputs": [
    {
     "data": {
      "text/html": [
       "<table class=\"dataframe\">\n",
       "<caption>A data.frame: 36 × 2</caption>\n",
       "<thead>\n",
       "\t<tr><th scope=col>species</th><th scope=col>temperature_C</th></tr>\n",
       "\t<tr><th scope=col>&lt;chr&gt;</th><th scope=col>&lt;dbl&gt;</th></tr>\n",
       "</thead>\n",
       "<tbody>\n",
       "\t<tr><td>p</td><td>27.8</td></tr>\n",
       "\t<tr><td>p</td><td>33.8</td></tr>\n",
       "\t<tr><td>p</td><td>22.4</td></tr>\n",
       "\t<tr><td>p</td><td>28.7</td></tr>\n",
       "\t<tr><td>p</td><td>32.2</td></tr>\n",
       "\t<tr><td>p</td><td>22.6</td></tr>\n",
       "\t<tr><td>p</td><td>18.8</td></tr>\n",
       "\t<tr><td>p</td><td>19.5</td></tr>\n",
       "\t<tr><td>p</td><td>20.5</td></tr>\n",
       "\t<tr><td>p</td><td>23.8</td></tr>\n",
       "\t<tr><td>p</td><td>21.2</td></tr>\n",
       "\t<tr><td>p</td><td>21.6</td></tr>\n",
       "\t<tr><td>p</td><td>28.4</td></tr>\n",
       "\t<tr><td>p</td><td>32.3</td></tr>\n",
       "\t<tr><td>p</td><td>26.1</td></tr>\n",
       "\t<tr><td>p</td><td>22.5</td></tr>\n",
       "\t<tr><td>p</td><td>19.5</td></tr>\n",
       "\t<tr><td>p</td><td>23.4</td></tr>\n",
       "\t<tr><td>s</td><td>29.9</td></tr>\n",
       "\t<tr><td>s</td><td>36.2</td></tr>\n",
       "\t<tr><td>s</td><td>20.2</td></tr>\n",
       "\t<tr><td>s</td><td>19.1</td></tr>\n",
       "\t<tr><td>s</td><td>18.9</td></tr>\n",
       "\t<tr><td>s</td><td>21.1</td></tr>\n",
       "\t<tr><td>s</td><td>19.2</td></tr>\n",
       "\t<tr><td>s</td><td>18.8</td></tr>\n",
       "\t<tr><td>s</td><td>19.1</td></tr>\n",
       "\t<tr><td>s</td><td>20.6</td></tr>\n",
       "\t<tr><td>s</td><td>21.2</td></tr>\n",
       "\t<tr><td>s</td><td>21.4</td></tr>\n",
       "\t<tr><td>s</td><td>26.1</td></tr>\n",
       "\t<tr><td>s</td><td>21.6</td></tr>\n",
       "\t<tr><td>s</td><td>28.4</td></tr>\n",
       "\t<tr><td>s</td><td>24.1</td></tr>\n",
       "\t<tr><td>s</td><td>21.9</td></tr>\n",
       "\t<tr><td>s</td><td>21.3</td></tr>\n",
       "</tbody>\n",
       "</table>\n"
      ],
      "text/latex": [
       "A data.frame: 36 × 2\n",
       "\\begin{tabular}{ll}\n",
       " species & temperature\\_C\\\\\n",
       " <chr> & <dbl>\\\\\n",
       "\\hline\n",
       "\t p & 27.8\\\\\n",
       "\t p & 33.8\\\\\n",
       "\t p & 22.4\\\\\n",
       "\t p & 28.7\\\\\n",
       "\t p & 32.2\\\\\n",
       "\t p & 22.6\\\\\n",
       "\t p & 18.8\\\\\n",
       "\t p & 19.5\\\\\n",
       "\t p & 20.5\\\\\n",
       "\t p & 23.8\\\\\n",
       "\t p & 21.2\\\\\n",
       "\t p & 21.6\\\\\n",
       "\t p & 28.4\\\\\n",
       "\t p & 32.3\\\\\n",
       "\t p & 26.1\\\\\n",
       "\t p & 22.5\\\\\n",
       "\t p & 19.5\\\\\n",
       "\t p & 23.4\\\\\n",
       "\t s & 29.9\\\\\n",
       "\t s & 36.2\\\\\n",
       "\t s & 20.2\\\\\n",
       "\t s & 19.1\\\\\n",
       "\t s & 18.9\\\\\n",
       "\t s & 21.1\\\\\n",
       "\t s & 19.2\\\\\n",
       "\t s & 18.8\\\\\n",
       "\t s & 19.1\\\\\n",
       "\t s & 20.6\\\\\n",
       "\t s & 21.2\\\\\n",
       "\t s & 21.4\\\\\n",
       "\t s & 26.1\\\\\n",
       "\t s & 21.6\\\\\n",
       "\t s & 28.4\\\\\n",
       "\t s & 24.1\\\\\n",
       "\t s & 21.9\\\\\n",
       "\t s & 21.3\\\\\n",
       "\\end{tabular}\n"
      ],
      "text/markdown": [
       "\n",
       "A data.frame: 36 × 2\n",
       "\n",
       "| species &lt;chr&gt; | temperature_C &lt;dbl&gt; |\n",
       "|---|---|\n",
       "| p | 27.8 |\n",
       "| p | 33.8 |\n",
       "| p | 22.4 |\n",
       "| p | 28.7 |\n",
       "| p | 32.2 |\n",
       "| p | 22.6 |\n",
       "| p | 18.8 |\n",
       "| p | 19.5 |\n",
       "| p | 20.5 |\n",
       "| p | 23.8 |\n",
       "| p | 21.2 |\n",
       "| p | 21.6 |\n",
       "| p | 28.4 |\n",
       "| p | 32.3 |\n",
       "| p | 26.1 |\n",
       "| p | 22.5 |\n",
       "| p | 19.5 |\n",
       "| p | 23.4 |\n",
       "| s | 29.9 |\n",
       "| s | 36.2 |\n",
       "| s | 20.2 |\n",
       "| s | 19.1 |\n",
       "| s | 18.9 |\n",
       "| s | 21.1 |\n",
       "| s | 19.2 |\n",
       "| s | 18.8 |\n",
       "| s | 19.1 |\n",
       "| s | 20.6 |\n",
       "| s | 21.2 |\n",
       "| s | 21.4 |\n",
       "| s | 26.1 |\n",
       "| s | 21.6 |\n",
       "| s | 28.4 |\n",
       "| s | 24.1 |\n",
       "| s | 21.9 |\n",
       "| s | 21.3 |\n",
       "\n"
      ],
      "text/plain": [
       "   species temperature_C\n",
       "1  p       27.8         \n",
       "2  p       33.8         \n",
       "3  p       22.4         \n",
       "4  p       28.7         \n",
       "5  p       32.2         \n",
       "6  p       22.6         \n",
       "7  p       18.8         \n",
       "8  p       19.5         \n",
       "9  p       20.5         \n",
       "10 p       23.8         \n",
       "11 p       21.2         \n",
       "12 p       21.6         \n",
       "13 p       28.4         \n",
       "14 p       32.3         \n",
       "15 p       26.1         \n",
       "16 p       22.5         \n",
       "17 p       19.5         \n",
       "18 p       23.4         \n",
       "19 s       29.9         \n",
       "20 s       36.2         \n",
       "21 s       20.2         \n",
       "22 s       19.1         \n",
       "23 s       18.9         \n",
       "24 s       21.1         \n",
       "25 s       19.2         \n",
       "26 s       18.8         \n",
       "27 s       19.1         \n",
       "28 s       20.6         \n",
       "29 s       21.2         \n",
       "30 s       21.4         \n",
       "31 s       26.1         \n",
       "32 s       21.6         \n",
       "33 s       28.4         \n",
       "34 s       24.1         \n",
       "35 s       21.9         \n",
       "36 s       21.3         "
      ]
     },
     "metadata": {},
     "output_type": "display_data"
    }
   ],
   "source": [
    "#YOUR CODE HERE\n",
    "pbt"
   ]
  },
  {
   "cell_type": "markdown",
   "id": "republican-poetry",
   "metadata": {},
   "source": [
    "Okay time to make the plot. I'll give you a template again. Note that we're doing something a little different here. There is no y variable -- we're making a density plot so the y axis is density."
   ]
  },
  {
   "cell_type": "code",
   "execution_count": 21,
   "id": "gothic-beginning",
   "metadata": {},
   "outputs": [
    {
     "data": {
      "image/png": "[encoded data removed]",
      "text/plain": [
       "plot without title"
      ]
     },
     "metadata": {
      "image/png": {
       "height": 420,
       "width": 420
      }
     },
     "output_type": "display_data"
    }
   ],
   "source": [
    "# YOUR CODE HERE, but here's a template:\n",
    "#ggplot(???)+aes(x=???, color=???)+geom_density()\n",
    "ggplot(pbt)+aes(x=temperature_C, color=species)+geom_density()"
   ]
  },
  {
   "cell_type": "markdown",
   "id": "brilliant-scholar",
   "metadata": {},
   "source": [
    "Okay, so now we want several statistics. Let's make a table with all of these statistics. This looks like a job the group_by() and summarize() functions. Give it a try!\n",
    "\n",
    "Here's the relevant part of the analysis procedure again:\n",
    "\"Estimate the preferred body temperature as the mean and median temperature across all individuals for each species. Estimate the range of preferred temperatures as the 10% and 90% quantiles of preferred body temperatures for each species [quantile function in R, e.g., quantile(x, probs=seq(0.1,0.9))].\"\n",
    "\n",
    "NOTE: Minor correction on the quantile function: First instead of seq, you'd put c. But actually for this table why don't we calculate the 10th and 90th separately. So that would look like quantile(x, .1) and quantile(x, .9)."
   ]
  },
  {
   "cell_type": "code",
   "execution_count": 20,
   "id": "adjacent-trouble",
   "metadata": {},
   "outputs": [
    {
     "data": {
      "text/html": [
       "<table class=\"dataframe\">\n",
       "<caption>A tibble: 2 × 5</caption>\n",
       "<thead>\n",
       "\t<tr><th></th><th scope=col>species</th><th scope=col>mean</th><th scope=col>median</th><th scope=col>Q_10th</th><th scope=col>Q_90th</th></tr>\n",
       "\t<tr><th></th><th scope=col>&lt;chr&gt;</th><th scope=col>&lt;dbl&gt;</th><th scope=col>&lt;dbl&gt;</th><th scope=col>&lt;dbl&gt;</th><th scope=col>&lt;dbl&gt;</th></tr>\n",
       "</thead>\n",
       "<tbody>\n",
       "\t<tr><th scope=row>1</th><td>p</td><td>24.72778</td><td>23.00</td><td>19.50</td><td>32.23</td></tr>\n",
       "\t<tr><th scope=row>2</th><td>s</td><td>22.72778</td><td>21.25</td><td>19.04</td><td>28.85</td></tr>\n",
       "</tbody>\n",
       "</table>\n"
      ],
      "text/latex": [
       "A tibble: 2 × 5\n",
       "\\begin{tabular}{r|lllll}\n",
       "  & species & mean & median & Q\\_10th & Q\\_90th\\\\\n",
       "  & <chr> & <dbl> & <dbl> & <dbl> & <dbl>\\\\\n",
       "\\hline\n",
       "\t1 & p & 24.72778 & 23.00 & 19.50 & 32.23\\\\\n",
       "\t2 & s & 22.72778 & 21.25 & 19.04 & 28.85\\\\\n",
       "\\end{tabular}\n"
      ],
      "text/markdown": [
       "\n",
       "A tibble: 2 × 5\n",
       "\n",
       "| <!--/--> | species &lt;chr&gt; | mean &lt;dbl&gt; | median &lt;dbl&gt; | Q_10th &lt;dbl&gt; | Q_90th &lt;dbl&gt; |\n",
       "|---|---|---|---|---|---|\n",
       "| 1 | p | 24.72778 | 23.00 | 19.50 | 32.23 |\n",
       "| 2 | s | 22.72778 | 21.25 | 19.04 | 28.85 |\n",
       "\n"
      ],
      "text/plain": [
       "  species mean     median Q_10th Q_90th\n",
       "1 p       24.72778 23.00  19.50  32.23 \n",
       "2 s       22.72778 21.25  19.04  28.85 "
      ]
     },
     "metadata": {},
     "output_type": "display_data"
    }
   ],
   "source": [
    "# YOUR CODE HERE\n",
    "pbt %>% group_by(species) %>% summarize(mean=mean(temperature_C), median=median(temperature_C), Q_10th=quantile(temperature_C, .1), Q_90th=quantile(temperature_C, .9))"
   ]
  },
  {
   "cell_type": "markdown",
   "id": "functioning-heath",
   "metadata": {},
   "source": [
    "### Questions\n",
    "#### Q3 \n",
    "Is the mean or median a more appropriate metric of preferred body temperature? Why? Do the species prefer different temperatures? Do their temperature preferences support the hypothesis about the species’ origin and thermal adaptation?\n"
   ]
  },
  {
   "cell_type": "markdown",
   "id": "latter-mainstream",
   "metadata": {},
   "source": [
    "YOUR ANSWERS HERE"
   ]
  },
  {
   "cell_type": "markdown",
   "id": "asian-projector",
   "metadata": {},
   "source": [
    "#### Q4\n",
    "Now consider the match between the preferred temperatures and the thermal sensitivity of walking speed. How does the range of preferred temperatures relate to the performance curve? Is this range within the 80% performance breadth? Does it overlap with the thermal optimum? If not, what factors might explain the mismatch between these two traits?"
   ]
  },
  {
   "cell_type": "markdown",
   "id": "western-uganda",
   "metadata": {},
   "source": [
    "YOUR ANSWERS HERE (you can eyeball the 80% performance breadth)"
   ]
  },
  {
   "cell_type": "markdown",
   "id": "square-firewall",
   "metadata": {},
   "source": [
    "#### Q5\n",
    "During this lab, we measured the thermal sensitivity of locomotor performance. However, organisms are sensitive to many abiotic factors. Can you think of other abiotic factors that influence organismal performance? List both the factor and the type of performance."
   ]
  },
  {
   "cell_type": "markdown",
   "id": "considered-disability",
   "metadata": {},
   "source": [
    "YOUR ANSWERS HERE"
   ]
  },
  {
   "cell_type": "markdown",
   "id": "entertaining-bedroom",
   "metadata": {},
   "source": [
    "#### Q6\n",
    "Explain the difference between a thermal specialist and a thermal generalist. What type of environments do you think would select for thermal specialists over thermal generalists?"
   ]
  },
  {
   "cell_type": "markdown",
   "id": "graphic-standard",
   "metadata": {},
   "source": [
    "YOUR ANSWERS HERE"
   ]
  },
  {
   "cell_type": "markdown",
   "id": "measured-marsh",
   "metadata": {},
   "source": [
    "Great! You're done! You can submit this as a pdf on Canvas. To make the pdf go to file -> Export notebook as -> PDF "
   ]
  },
  {
   "cell_type": "code",
   "execution_count": null,
   "id": "honest-carol",
   "metadata": {},
   "outputs": [],
   "source": []
  }
 ],
 "metadata": {
  "kernelspec": {
   "display_name": "R",
   "language": "R",
   "name": "ir"
  },
  "language_info": {
   "codemirror_mode": "r",
   "file_extension": ".r",
   "mimetype": "text/x-r-source",
   "name": "R",
   "pygments_lexer": "r",
   "version": "4.0.2"
  }
 },
 "nbformat": 4,
 "nbformat_minor": 5
}
