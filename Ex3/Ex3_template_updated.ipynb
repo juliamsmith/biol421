{
 "cells": [
  {
   "cell_type": "markdown",
   "id": "antique-thermal",
   "metadata": {},
   "source": [
    "First, you should load the tidyverse library and the data (which is in the data folder). Go ahead and take a look at your dataframe. [Note that for some notes on the data, see the excel spreadsheet version on Canvas. Here I have just the csv (with slightly different column names to make manipulating in R easier).]"
   ]
  },
  {
   "cell_type": "code",
   "execution_count": 1,
   "id": "steady-oxide",
   "metadata": {},
   "outputs": [],
   "source": [
    "#CODE HERE"
   ]
  },
  {
   "cell_type": "markdown",
   "id": "raising-simulation",
   "metadata": {},
   "source": [
    "1.Our first step in examining how temperature influences field metabolic rate (FMR, kJ/day) is to correct for the effect of mass using the equation above.  Make a new column in your spreadsheet for mass-corrected FMR.  You can do this by dividing the FMR by M^x, where x is an empirically fitted exponent. Use x=0.644 for birds, x=0.678 for mammals, and x=0.768 for reptiles."
   ]
  },
  {
   "cell_type": "code",
   "execution_count": 3,
   "id": "indirect-denmark",
   "metadata": {},
   "outputs": [],
   "source": [
    "#CODE HERE\n",
    "#HINT: Use the mutate function to make a new column. \n",
    "#First you need to make a column for x. We did something similar in lab 2, so refer to that code, pasted below. \n",
    "#But be sure to change all the variables you need to so that you're following the instructions. \n",
    "#I also recommend visually inspecting what you did.\n",
    "#LAB 2 CODE\n",
    "#co2 <- co2 %>% mutate(mass=Species) %>% mutate(mass=recode(mass, s=mean(s.masses), p=mean(p.masses)))\n",
    "\n",
    "#Now it's up to you to make the mass-corrected column.\n"
   ]
  },
  {
   "cell_type": "markdown",
   "id": "professional-oxford",
   "metadata": {},
   "source": [
    "2.FMR is expected to vary exponentially with temperature (B ~ e^T) based on theory, so we next want to transform our FMR data using the natural log.  Make a new column in your spreadsheet for the natural log of mass-corrected FMR. (The function ln() will do this in excel.)"
   ]
  },
  {
   "cell_type": "code",
   "execution_count": 4,
   "id": "differential-terror",
   "metadata": {},
   "outputs": [],
   "source": [
    "#CODE HERE\n",
    "#HINT: In R the function is log()\n"
   ]
  },
  {
   "cell_type": "markdown",
   "id": "running-church",
   "metadata": {},
   "source": [
    "3.Now, we’re ready to make a plot. Plot the natural log of mass-corrected FMR (y-axis) as a function of the annual temperature (x-axis) in the locations where the animals were studied (°C, the ‘temp’ column in the spreadsheet). Use different colors or symbols to indicate the different groups (reptiles, birds, and mammals). Include a legend to indicate the meaning of the colors or symbols."
   ]
  },
  {
   "cell_type": "code",
   "execution_count": 5,
   "id": "moderate-desire",
   "metadata": {},
   "outputs": [],
   "source": [
    "#CODE HERE\n",
    "#HINT: \n",
    "#ggplot(???)+aes(???)+geom_point()+xlab(\"???\")+ylab(\"???\")\n",
    " "
   ]
  },
  {
   "cell_type": "markdown",
   "id": "genuine-second",
   "metadata": {},
   "source": [
    "4.Fit linear regressions and add trend lines for each group (reptiles, birds, and mammals).  Show the equation and R-squared values on the plots. [You can just report these, you don't have to superimpose them on your graph or anything fancy.]"
   ]
  },
  {
   "cell_type": "code",
   "execution_count": 6,
   "id": "encouraging-restoration",
   "metadata": {},
   "outputs": [],
   "source": [
    "#CODE HERE\n",
    "#ggplot(???)+aes(???)+geom_point()+xlab(\"???\")+ylab(\"???\")+geom_smooth(???)\n",
    "\n",
    "#use the lm function followed by the summary function to get the equation and Multiple R-squared (see lab0 code and slides)\n",
    "#remember to do this for each class (bird, mammal, reptile) rather than lumping them together. The filter function will help.\n"
   ]
  },
  {
   "cell_type": "markdown",
   "id": "military-arrest",
   "metadata": {},
   "source": [
    "YOUR EQUATIONS AND R-SQUARED VALUES HERE\n",
    "\n",
    "Birds: logmcfmr = -0.1257 * temp + 2.66671, R-squared: 0.09122\n",
    "\n",
    "Mammals: logmcfmr = -0.027443 * temp + 2.226155, R-squared: 0.1779\n",
    "\n",
    "Reptiles: logmcfmr = 0.04177 * temp - 1.97665, R-squared: 0.1384"
   ]
  },
  {
   "cell_type": "markdown",
   "id": "headed-strike",
   "metadata": {},
   "source": [
    "WRITTEN QUESTIONS"
   ]
  },
  {
   "cell_type": "markdown",
   "id": "junior-think",
   "metadata": {},
   "source": [
    "1.How do the magnitudes mass-corrected FMRs vary between ectotherms and endotherms?"
   ]
  },
  {
   "cell_type": "markdown",
   "id": "mechanical-edwards",
   "metadata": {},
   "source": [
    "YOUR WRITTEN ANSWER HERE"
   ]
  },
  {
   "cell_type": "markdown",
   "id": "unable-gardening",
   "metadata": {},
   "source": [
    "2.How do the mass-corrected FMRs of ectotherms and endotherms vary with annual temperature?  Use what you know about metabolism to explain any trends as a function of temperature that you find."
   ]
  },
  {
   "cell_type": "markdown",
   "id": "restricted-mailman",
   "metadata": {},
   "source": [
    "YOUR WRITTEN ANSWER HERE"
   ]
  },
  {
   "cell_type": "markdown",
   "id": "painful-bargain",
   "metadata": {},
   "source": [
    "3.What else other than the temperature-dependence of metabolism might contribute to the change in the FMRs of reptiles as a function of annual temperature of the environment.  Hint: Think about the difference between basal and field metabolic rates. "
   ]
  },
  {
   "cell_type": "markdown",
   "id": "clear-drive",
   "metadata": {},
   "source": [
    "YOUR WRITTEN ANSWER HERE"
   ]
  }
 ],
 "metadata": {
  "kernelspec": {
   "display_name": "R",
   "language": "R",
   "name": "ir"
  },
  "language_info": {
   "codemirror_mode": "r",
   "file_extension": ".r",
   "mimetype": "text/x-r-source",
   "name": "R",
   "pygments_lexer": "r",
   "version": "4.0.2"
  }
 },
 "nbformat": 4,
 "nbformat_minor": 5
}
