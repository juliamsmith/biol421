{
 "cells": [
  {
   "cell_type": "markdown",
   "id": "piano-finnish",
   "metadata": {},
   "source": [
    "First, you should load the tidyverse library and the data (which is in the data folder). Go ahead and take a look at your dataframe. [Note that for some notes on the data, see the excel spreadsheet version on Canvas. Here I have just the csv (with slightly different column names to make manipulating in R easier).]"
   ]
  },
  {
   "cell_type": "code",
   "execution_count": null,
   "id": "metallic-fortune",
   "metadata": {},
   "outputs": [],
   "source": [
    "#CODE HERE"
   ]
  },
  {
   "cell_type": "markdown",
   "id": "expanded-camcorder",
   "metadata": {},
   "source": [
    "1.Our first step in examining how temperature influences field metabolic rate (FMR, kJ/day) is to correct for the effect of mass using the equation above.  Make a new column in your spreadsheet for mass-corrected FMR.  You can do this by dividing the FMR by Mx, where x is an empirically fitted exponent. Use x=0.644 for birds, x=0.678 for mammals, and x=0.768 for reptiles."
   ]
  },
  {
   "cell_type": "code",
   "execution_count": null,
   "id": "expanded-wisconsin",
   "metadata": {},
   "outputs": [],
   "source": [
    "#CODE HERE"
   ]
  },
  {
   "cell_type": "markdown",
   "id": "dynamic-guidance",
   "metadata": {},
   "source": [
    "2.FMR is expected to vary exponentially with temperature (B ~ eT) based on theory, so we next want to transform our FMR data using the natural log.  Make a new column in your spreadsheet for the natural log of mass-corrected FMR. (The function ln() will do this in excel.)"
   ]
  },
  {
   "cell_type": "code",
   "execution_count": null,
   "id": "joined-belief",
   "metadata": {},
   "outputs": [],
   "source": [
    "#CODE HERE"
   ]
  },
  {
   "cell_type": "markdown",
   "id": "balanced-corporation",
   "metadata": {},
   "source": [
    "3.Now, we’re ready to make a plot. Plot the natural log of mass-corrected FMR (y-axis) as a function of the annual temperature (x-axis) in the locations where the animals were studied (°C, the ‘temp’ column in the spreadsheet). Use different colors or symbols to indicate the different groups (reptiles, birds, and mammals). Include a legend to indicate the meaning of the colors or symbols."
   ]
  },
  {
   "cell_type": "code",
   "execution_count": null,
   "id": "willing-daughter",
   "metadata": {},
   "outputs": [],
   "source": [
    "#CODE HERE"
   ]
  },
  {
   "cell_type": "markdown",
   "id": "civic-highlight",
   "metadata": {},
   "source": [
    "4.Fit linear regressions and add trend lines to the lower and upper thermal tolerance data for each group (reptiles, birds, and mammals).  Show the equation and R-squared values on the plots. [You can just report these, you don't have to superimpose them on your graph or anything fancy.]"
   ]
  },
  {
   "cell_type": "code",
   "execution_count": null,
   "id": "valued-ferry",
   "metadata": {},
   "outputs": [],
   "source": [
    "#CODE HERE"
   ]
  },
  {
   "cell_type": "markdown",
   "id": "modern-ancient",
   "metadata": {},
   "source": [
    "WRITTEN QUESTIONS"
   ]
  },
  {
   "cell_type": "markdown",
   "id": "thousand-dover",
   "metadata": {},
   "source": [
    "1.How do the magnitudes mass-corrected FMRs vary between ectotherms and endotherms?"
   ]
  },
  {
   "cell_type": "markdown",
   "id": "regional-panic",
   "metadata": {},
   "source": [
    "YOUR WRITTEN ANSWER HERE"
   ]
  },
  {
   "cell_type": "markdown",
   "id": "twenty-verification",
   "metadata": {},
   "source": [
    "2.How do the mass-corrected FMRs of ectotherms and endotherms vary with annual temperature?  Use what you know about metabolism to explain any trends as a function of temperature that you find."
   ]
  },
  {
   "cell_type": "markdown",
   "id": "abandoned-library",
   "metadata": {},
   "source": [
    "YOUR WRITTEN ANSWER HERE"
   ]
  },
  {
   "cell_type": "markdown",
   "id": "impressive-intervention",
   "metadata": {},
   "source": [
    "3.What else other than the temperature-dependence of metabolism might contribute to the change in the FMRs of reptiles as a function of annual temperature of the environment.  Hint: Think about the difference between basal and field metabolic rates. "
   ]
  },
  {
   "cell_type": "markdown",
   "id": "premier-wallpaper",
   "metadata": {},
   "source": [
    "YOUR WRITTEN ANSWER HERE"
   ]
  }
 ],
 "metadata": {
  "kernelspec": {
   "display_name": "R",
   "language": "R",
   "name": "ir"
  },
  "language_info": {
   "codemirror_mode": "r",
   "file_extension": ".r",
   "mimetype": "text/x-r-source",
   "name": "R",
   "pygments_lexer": "r",
   "version": "4.0.2"
  }
 },
 "nbformat": 4,
 "nbformat_minor": 5
}
